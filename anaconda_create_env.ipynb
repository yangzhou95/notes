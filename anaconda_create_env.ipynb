{
 "cells": [
  {
   "cell_type": "markdown",
   "metadata": {},
   "source": [
    "## 2. Anaconda, create new independent virtual invironment. \n",
    "\n",
    "* conda create -n tensorflow python=3.5 # create a virtual environment with name=tensorflow, python version is 3.5\n",
    "* activate tensorflow # activate this tensorflow virtual environment\n",
    "## To activate this environment, use:\n",
    "## > source activate tensorflow\n",
    "##\n",
    "## To deactivate an active environment, use:\n",
    "## > source deactivate\n",
    "##\n",
    "\n",
    "## This new environment is dependent, all the operatons will be valid only in this virtual environment.\n",
    "\n",
    "## you can configure this env and install your pachage\n",
    "\n",
    "## you can also import this env to Pycharm.\n",
    "* Fiile>->setting->Project:xxx->project Interpreter\n"
   ]
  }
 ],
 "metadata": {
  "kernelspec": {
   "display_name": "Python 3",
   "language": "python",
   "name": "python3"
  },
  "language_info": {
   "codemirror_mode": {
    "name": "ipython",
    "version": 3
   },
   "file_extension": ".py",
   "mimetype": "text/x-python",
   "name": "python",
   "nbconvert_exporter": "python",
   "pygments_lexer": "ipython3",
   "version": "3.6.3"
  }
 },
 "nbformat": 4,
 "nbformat_minor": 2
}
