{
 "cells": [
  {
   "cell_type": "markdown",
   "metadata": {},
   "source": [
    "# <p style=\"color:red\">Chapter 5</p>"
   ]
  },
  {
   "cell_type": "markdown",
   "metadata": {},
   "source": [
    "## 1. updateing immutable variable\n",
    "\n",
    "   * Because numbers are immutable, you are just making a new number and reassigning the reference.\n",
    "   * A complex number is any ordered pair of floating point real numbers (x, y) denoted by x + yj where x is the real part and y is the imaginary part of a complex number.\n",
    "   * num.real, num.imag, num.conjugate"
   ]
  },
  {
   "cell_type": "markdown",
   "metadata": {},
   "source": [
    "## 2. operators\n",
    "\n",
    "   * classic division: a. When presented with integer operands, classic division truncates the fraction,returning an integer (floor division). b. given a pair of floating-point operands it returns the actual floating-point quotient (true division).\n",
    "   "
   ]
  },
  {
   "cell_type": "code",
   "execution_count": 1,
   "metadata": {},
   "outputs": [
    {
     "data": {
      "text/plain": [
       "0.5"
      ]
     },
     "execution_count": 1,
     "metadata": {},
     "output_type": "execute_result"
    }
   ],
   "source": [
    "1/2\n"
   ]
  },
  {
   "cell_type": "code",
   "execution_count": 2,
   "metadata": {},
   "outputs": [
    {
     "data": {
      "text/plain": [
       "0.5"
      ]
     },
     "execution_count": 2,
     "metadata": {},
     "output_type": "execute_result"
    }
   ],
   "source": [
    "1.0/2\n"
   ]
  },
  {
   "cell_type": "code",
   "execution_count": 3,
   "metadata": {},
   "outputs": [
    {
     "data": {
      "text/plain": [
       "0.5"
      ]
     },
     "execution_count": 3,
     "metadata": {},
     "output_type": "execute_result"
    }
   ],
   "source": [
    "1.0/2.0"
   ]
  },
  {
   "cell_type": "markdown",
   "metadata": {},
   "source": [
    "## 3. flor division\n",
    "\n",
    "   * //: A new division operator ( // ) has been created that carries out floor division."
   ]
  },
  {
   "cell_type": "code",
   "execution_count": 4,
   "metadata": {},
   "outputs": [
    {
     "data": {
      "text/plain": [
       "0"
      ]
     },
     "execution_count": 4,
     "metadata": {},
     "output_type": "execute_result"
    }
   ],
   "source": [
    "2//3"
   ]
  },
  {
   "cell_type": "markdown",
   "metadata": {},
   "source": [
    "## 4. modulus\n",
    "\n",
    "   * x - (math.floor(x/y) * y)\n",
    "   * x - (math.floor((x/y).real) * y)."
   ]
  },
  {
   "cell_type": "markdown",
   "metadata": {},
   "source": [
    "## 5. bit operators (integer only)\n",
    "\n",
    "   * Negative numbers are treated as their 2’s complement value.\n",
    "   * Left and right shifts of N bits are equivalent to multiplication and division by (2 􀀍􀀍 N) without overflow checking.\n",
    "   * The bit inversion operator ( ~ ) has the same precedence as the arithmetic unary operators, the highest of all bit operators.\n",
    "   "
   ]
  },
  {
   "cell_type": "markdown",
   "metadata": {},
   "source": [
    "## 6. operational\n",
    "   * Python has five operational built-in functions for numeric types: abs(), coerce(), divmod(), pow(), and round().\n",
    "   * The coerce() function is a way for the programmer to explicitly coerce a pair of numbers rather than letting the interpreter do it. coerce() just returns a tuple containing the converted pair of numbers. Here are some examples\n",
    "   * The divmod() built-in function combines division and modulus operations into a single function call that returns the pair (quotient, remainder) as a tuple.\n",
    "   * pow(num1, num[, mod]): Raises num1 to num2 power, quantity modulo mod if provided\n",
    "   * round(flt, ndig=0): (Floats only) takes a float flt and rounds it to ndig digits, defaulting to zero if not provided\n",
    "   * chr(num): Takes ASCII value num and returns ASCII character as string; 0 <= num <= 255 only\n",
    "   * ord(chr): Takes ASCII or Unicode chr (string of length 1) and returns corresponding ordinal ASCII value or Unicode code point, respectively\n",
    "   * unichr(num): Takes a Unicode code point value num and returns its Unicode character as a Unicode string; valid range depends on whether your Python was built as UCS-2 or UCS-4.\n",
    "   * "
   ]
  },
  {
   "cell_type": "markdown",
   "metadata": {},
   "source": [
    "## 7.boolean 'numbers'\n",
    "  * They have a constant value of either True or False.\n",
    "  * Objects that do not have a __nonzero__() method default to True.\n",
    "\n",
    "Note that:\n",
    "\n",
    "   *  In Python 3, you can still do this, but the name of the method has changed to __bool__().Instead of __nonzero__(), Python 3 calls the __bool__() method when evaluating an instance in a boolean context."
   ]
  },
  {
   "cell_type": "code",
   "execution_count": 61,
   "metadata": {
    "collapsed": true
   },
   "outputs": [],
   "source": [
    "class A: pass"
   ]
  },
  {
   "cell_type": "code",
   "execution_count": 62,
   "metadata": {},
   "outputs": [
    {
     "data": {
      "text/plain": [
       "True"
      ]
     },
     "execution_count": 62,
     "metadata": {},
     "output_type": "execute_result"
    }
   ],
   "source": [
    "a=A()\n",
    "bool(a)"
   ]
  },
  {
   "cell_type": "code",
   "execution_count": 70,
   "metadata": {
    "collapsed": true
   },
   "outputs": [],
   "source": [
    "class C:\n",
    "    def __bool__(self):\n",
    "        return False"
   ]
  },
  {
   "cell_type": "code",
   "execution_count": 71,
   "metadata": {},
   "outputs": [],
   "source": [
    "c=C()\n"
   ]
  },
  {
   "cell_type": "code",
   "execution_count": 72,
   "metadata": {},
   "outputs": [
    {
     "data": {
      "text/plain": [
       "False"
      ]
     },
     "execution_count": 72,
     "metadata": {},
     "output_type": "execute_result"
    }
   ],
   "source": [
    "bool(c)"
   ]
  },
  {
   "cell_type": "code",
   "execution_count": 73,
   "metadata": {},
   "outputs": [
    {
     "data": {
      "text/plain": [
       "True"
      ]
     },
     "execution_count": 73,
     "metadata": {},
     "output_type": "execute_result"
    }
   ],
   "source": [
    "bool(C)"
   ]
  },
  {
   "cell_type": "markdown",
   "metadata": {},
   "source": [
    "## 8.random module\n",
    "   * randint(start, end) Return random integer in range [a, b], including both end points.\n",
    "   * randrange(start, stop=None, step=1, _int=<class 'int'>) method of random.Random instance Choose a random item from range(start, stop[, step]).\n",
    "    \n",
    "   * uniform(a, b) method of random.Random instance. Get a random number in the range [a, b) or [a, b] depending on rounding. Does almost the same thing as randint(), but returns a float and is inclusive only of the smaller number (exclusive of the larger number)\n",
    "   * random() Works just like uniform() except that the smaller number is fixed at 0.0, and the larger number is fixed at 1.0\n",
    "   * choice(seq) method of random.Random instance. Choose a random element from a non-empty sequence.  Given a sequence (see Chapter 6), randomly selects and returns a sequence item"
   ]
  },
  {
   "cell_type": "code",
   "execution_count": 74,
   "metadata": {
    "collapsed": true
   },
   "outputs": [],
   "source": [
    "import random as rd\n"
   ]
  },
  {
   "cell_type": "code",
   "execution_count": 75,
   "metadata": {},
   "outputs": [
    {
     "data": {
      "text/plain": [
       "5"
      ]
     },
     "execution_count": 75,
     "metadata": {},
     "output_type": "execute_result"
    }
   ],
   "source": [
    "rd.randint(2,5)"
   ]
  },
  {
   "cell_type": "code",
   "execution_count": 81,
   "metadata": {},
   "outputs": [
    {
     "name": "stdout",
     "output_type": "stream",
     "text": [
      "Help on method choice in module random:\n",
      "\n",
      "choice(seq) method of random.Random instance\n",
      "    Choose a random element from a non-empty sequence.\n",
      "\n"
     ]
    }
   ],
   "source": [
    "help(rd.choice)"
   ]
  },
  {
   "cell_type": "code",
   "execution_count": 82,
   "metadata": {},
   "outputs": [
    {
     "data": {
      "text/plain": [
       "6"
      ]
     },
     "execution_count": 82,
     "metadata": {},
     "output_type": "execute_result"
    }
   ],
   "source": [
    "rd.randrange(1,9)"
   ]
  },
  {
   "cell_type": "code",
   "execution_count": 85,
   "metadata": {},
   "outputs": [
    {
     "data": {
      "text/plain": [
       "2"
      ]
     },
     "execution_count": 85,
     "metadata": {},
     "output_type": "execute_result"
    }
   ],
   "source": [
    "rd.choice([2,3,9])"
   ]
  },
  {
   "cell_type": "code",
   "execution_count": null,
   "metadata": {
    "collapsed": true
   },
   "outputs": [],
   "source": []
  }
 ],
 "metadata": {
  "kernelspec": {
   "display_name": "Python 3",
   "language": "python",
   "name": "python3"
  },
  "language_info": {
   "codemirror_mode": {
    "name": "ipython",
    "version": 3
   },
   "file_extension": ".py",
   "mimetype": "text/x-python",
   "name": "python",
   "nbconvert_exporter": "python",
   "pygments_lexer": "ipython3",
   "version": "3.6.3"
  }
 },
 "nbformat": 4,
 "nbformat_minor": 2
}
