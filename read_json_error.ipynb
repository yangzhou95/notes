{
 "cells": [
  {
   "cell_type": "markdown",
   "metadata": {
    "pycharm": {
     "name": "#%% md\n"
    }
   },
   "source": [
    "# 1. JSON read data, ValueError: Extra data: line 2 column 2 -line 4 column2\n",
    "\n",
    "\n",
    "## Analysis: json can only read one document object at one time, there are two solutions:\n",
    "## * read one line at a time;\n",
    "## * when dumping the source data to disk, save it as one object."
   ]
  },
  {
   "cell_type": "code",
   "execution_count": 4,
   "metadata": {
    "pycharm": {
     "name": "#%%\n"
    }
   },
   "outputs": [],
   "source": [
    "# read one lien at a time;\n",
    "import os\n",
    "import json\n",
    "\n",
    "\n",
    "os.chdir('/home/zhouyang/Desktop/data/addicted/11_Opioid/')\n",
    "file=open('2018-01-26.json','r')\n",
    "\n",
    "for line in file.readlines():\n",
    "    dic=json.loads(line)"
   ]
  },
  {
   "cell_type": "code",
   "execution_count": 5,
   "metadata": {
    "pycharm": {
     "name": "#%%\n"
    }
   },
   "outputs": [
    {
     "data": {
      "text/plain": [
       "{'contributors': None,\n",
       " 'coordinates': None,\n",
       " 'created_at': 'Fri Jan 26 23:56:57 +0000 2018',\n",
       " 'entities': {'hashtags': [{'indices': [12, 19], 'text': 'opioid'},\n",
       "   {'indices': [28, 35], 'text': 'babies'},\n",
       "   {'indices': [103, 112], 'text': 'hospital'}],\n",
       "  'symbols': [],\n",
       "  'urls': [{'display_url': 'cin.ci/2rAQ1ID',\n",
       "    'expanded_url': 'http://cin.ci/2rAQ1ID',\n",
       "    'indices': [75, 98],\n",
       "    'url': 'https://t.co/rLAWys0GOO'}],\n",
       "  'user_mentions': [{'id': 961092336,\n",
       "    'id_str': '961092336',\n",
       "    'indices': [3, 10],\n",
       "    'name': 'Terry DeMio',\n",
       "    'screen_name': 'tdemio'},\n",
       "   {'id': 40927068,\n",
       "    'id_str': '40927068',\n",
       "    'indices': [53, 68],\n",
       "    'name': 'Cincinnati Childrens',\n",
       "    'screen_name': 'CincyChildrens'}]},\n",
       " 'favorite_count': 0,\n",
       " 'favorited': False,\n",
       " 'geo': None,\n",
       " 'id': 957039688786771971,\n",
       " 'id_str': '957039688786771971',\n",
       " 'in_reply_to_screen_name': None,\n",
       " 'in_reply_to_status_id': None,\n",
       " 'in_reply_to_status_id_str': None,\n",
       " 'in_reply_to_user_id': None,\n",
       " 'in_reply_to_user_id_str': None,\n",
       " 'is_quote_status': False,\n",
       " 'lang': 'en',\n",
       " 'metadata': {'iso_language_code': 'en', 'result_type': 'recent'},\n",
       " 'place': None,\n",
       " 'possibly_sensitive': False,\n",
       " 'retweet_count': 9,\n",
       " 'retweeted': False,\n",
       " 'retweeted_status': {'contributors': None,\n",
       "  'coordinates': None,\n",
       "  'created_at': 'Wed Jan 24 15:56:55 +0000 2018',\n",
       "  'entities': {'hashtags': [{'indices': [0, 7], 'text': 'opioid'},\n",
       "    {'indices': [16, 23], 'text': 'babies'},\n",
       "    {'indices': [91, 100], 'text': 'hospital'}],\n",
       "   'symbols': [],\n",
       "   'urls': [{'display_url': 'cin.ci/2rAQ1ID',\n",
       "     'expanded_url': 'http://cin.ci/2rAQ1ID',\n",
       "     'indices': [63, 86],\n",
       "     'url': 'https://t.co/rLAWys0GOO'},\n",
       "    {'display_url': 'twitter.com/i/web/status/9…',\n",
       "     'expanded_url': 'https://twitter.com/i/web/status/956194108783185920',\n",
       "     'indices': [116, 139],\n",
       "     'url': 'https://t.co/QNbYzW1fVP'}],\n",
       "   'user_mentions': [{'id': 40927068,\n",
       "     'id_str': '40927068',\n",
       "     'indices': [41, 56],\n",
       "     'name': 'Cincinnati Childrens',\n",
       "     'screen_name': 'CincyChildrens'}]},\n",
       "  'favorite_count': 12,\n",
       "  'favorited': False,\n",
       "  'geo': None,\n",
       "  'id': 956194108783185920,\n",
       "  'id_str': '956194108783185920',\n",
       "  'in_reply_to_screen_name': None,\n",
       "  'in_reply_to_status_id': None,\n",
       "  'in_reply_to_status_id_str': None,\n",
       "  'in_reply_to_user_id': None,\n",
       "  'in_reply_to_user_id_str': None,\n",
       "  'is_quote_status': False,\n",
       "  'lang': 'en',\n",
       "  'metadata': {'iso_language_code': 'en', 'result_type': 'recent'},\n",
       "  'place': None,\n",
       "  'possibly_sensitive': False,\n",
       "  'retweet_count': 9,\n",
       "  'retweeted': False,\n",
       "  'source': '<a href=\"http://twitter.com\" rel=\"nofollow\">Twitter Web Client</a>',\n",
       "  'text': '#opioid-exposed #babies - new study from @CincyChildrens here: https://t.co/rLAWys0GOO the #hospital has long-term… https://t.co/QNbYzW1fVP',\n",
       "  'truncated': True,\n",
       "  'user': {'contributors_enabled': False,\n",
       "   'created_at': 'Tue Nov 20 19:52:32 +0000 2012',\n",
       "   'default_profile': False,\n",
       "   'default_profile_image': False,\n",
       "   'description': 'For leading #heroin coverage in Greater Cincinnati and Northern Kentucky, look to me.',\n",
       "   'entities': {'description': {'urls': []},\n",
       "    'url': {'urls': [{'display_url': 'cincinnati.com',\n",
       "       'expanded_url': 'http://www.cincinnati.com',\n",
       "       'indices': [0, 22],\n",
       "       'url': 'http://t.co/wpYRihiFru'}]}},\n",
       "   'favourites_count': 4790,\n",
       "   'follow_request_sent': None,\n",
       "   'followers_count': 2153,\n",
       "   'following': None,\n",
       "   'friends_count': 1497,\n",
       "   'geo_enabled': True,\n",
       "   'has_extended_profile': False,\n",
       "   'id': 961092336,\n",
       "   'id_str': '961092336',\n",
       "   'is_translation_enabled': False,\n",
       "   'is_translator': False,\n",
       "   'lang': 'en',\n",
       "   'listed_count': 104,\n",
       "   'location': '@Enquirer',\n",
       "   'name': 'Terry DeMio',\n",
       "   'notifications': None,\n",
       "   'profile_background_color': 'C0DEED',\n",
       "   'profile_background_image_url': 'http://abs.twimg.com/images/themes/theme1/bg.png',\n",
       "   'profile_background_image_url_https': 'https://abs.twimg.com/images/themes/theme1/bg.png',\n",
       "   'profile_background_tile': False,\n",
       "   'profile_banner_url': 'https://pbs.twimg.com/profile_banners/961092336/1487343542',\n",
       "   'profile_image_url': 'http://pbs.twimg.com/profile_images/832604237611687938/z-klR1gw_normal.jpg',\n",
       "   'profile_image_url_https': 'https://pbs.twimg.com/profile_images/832604237611687938/z-klR1gw_normal.jpg',\n",
       "   'profile_link_color': '3B94D9',\n",
       "   'profile_sidebar_border_color': 'C0DEED',\n",
       "   'profile_sidebar_fill_color': 'DDEEF6',\n",
       "   'profile_text_color': '333333',\n",
       "   'profile_use_background_image': True,\n",
       "   'protected': False,\n",
       "   'screen_name': 'tdemio',\n",
       "   'statuses_count': 9467,\n",
       "   'time_zone': 'Hawaii',\n",
       "   'translator_type': 'none',\n",
       "   'url': 'http://t.co/wpYRihiFru',\n",
       "   'utc_offset': -36000,\n",
       "   'verified': True}},\n",
       " 'source': '<a href=\"http://twitter.com/download/iphone\" rel=\"nofollow\">Twitter for iPhone</a>',\n",
       " 'text': 'RT @tdemio: #opioid-exposed #babies - new study from @CincyChildrens here: https://t.co/rLAWys0GOO the #hospital has long-term care for NAS…',\n",
       " 'truncated': False,\n",
       " 'user': {'contributors_enabled': False,\n",
       "  'created_at': 'Fri Jan 28 14:04:15 +0000 2011',\n",
       "  'default_profile': False,\n",
       "  'default_profile_image': False,\n",
       "  'description': 'The face behind the tweets and stories at the new @HorizonCFNKY. Also: music, dog, sandwiches, NKY/Cincinnati region - views are mine!',\n",
       "  'entities': {'description': {'urls': []}},\n",
       "  'favourites_count': 941,\n",
       "  'follow_request_sent': None,\n",
       "  'followers_count': 487,\n",
       "  'following': None,\n",
       "  'friends_count': 835,\n",
       "  'geo_enabled': True,\n",
       "  'has_extended_profile': False,\n",
       "  'id': 244090730,\n",
       "  'id_str': '244090730',\n",
       "  'is_translation_enabled': False,\n",
       "  'is_translator': False,\n",
       "  'lang': 'en',\n",
       "  'listed_count': 12,\n",
       "  'location': 'Cincinnati',\n",
       "  'name': 'Tess Brown',\n",
       "  'notifications': None,\n",
       "  'profile_background_color': '0E2C3B',\n",
       "  'profile_background_image_url': 'http://pbs.twimg.com/profile_background_images/378800000121413424/786974d9eb9325a74c221b288ad2eb00.jpeg',\n",
       "  'profile_background_image_url_https': 'https://pbs.twimg.com/profile_background_images/378800000121413424/786974d9eb9325a74c221b288ad2eb00.jpeg',\n",
       "  'profile_background_tile': False,\n",
       "  'profile_banner_url': 'https://pbs.twimg.com/profile_banners/244090730/1510110489',\n",
       "  'profile_image_url': 'http://pbs.twimg.com/profile_images/928105457679339526/PMfQZYGr_normal.jpg',\n",
       "  'profile_image_url_https': 'https://pbs.twimg.com/profile_images/928105457679339526/PMfQZYGr_normal.jpg',\n",
       "  'profile_link_color': 'ABB8C2',\n",
       "  'profile_sidebar_border_color': 'FFFFFF',\n",
       "  'profile_sidebar_fill_color': 'DDEEF6',\n",
       "  'profile_text_color': '333333',\n",
       "  'profile_use_background_image': True,\n",
       "  'protected': False,\n",
       "  'screen_name': 'TessMBrown',\n",
       "  'statuses_count': 982,\n",
       "  'time_zone': 'Eastern Time (US & Canada)',\n",
       "  'translator_type': 'none',\n",
       "  'url': None,\n",
       "  'utc_offset': -18000,\n",
       "  'verified': False}}"
      ]
     },
     "execution_count": 5,
     "metadata": {},
     "output_type": "execute_result"
    }
   ],
   "source": [
    "dic"
   ]
  },
  {
   "cell_type": "code",
   "execution_count": null,
   "metadata": {
    "collapsed": true,
    "pycharm": {
     "name": "#%%\n"
    }
   },
   "outputs": [],
   "source": [
    "# save as one object\n",
    "\n",
    "#\"cates\":[\n",
    "#{\"pid\": 150400, \"id\": 150402, \"name\": \"电影票\"},\n",
    "#{\"pid\": 150000, \"id\": 150500, \"name\": \"票务\"},\n",
    "#{\"pid\": 150500, \"id\": 150501, \"name\": \"国内旅游\"},\n",
    "#{\"pid\": 150500, \"id\": 150502, \"name\": \"海外旅游\"}\n",
    "#]}\n"
   ]
  },
  {
   "cell_type": "code",
   "execution_count": 7,
   "metadata": {
    "pycharm": {
     "name": "#%%\n"
    }
   },
   "outputs": [
    {
     "ename": "JSONDecodeError",
     "evalue": "Extra data: line 1 column 120 (char 119)",
     "traceback": [
      "\u001B[0;31m---------------------------------------------------------------------------\u001B[0m",
      "\u001B[0;31mJSONDecodeError\u001B[0m                           Traceback (most recent call last)",
      "\u001B[0;32m<ipython-input-7-d5f2aaa9a13b>\u001B[0m in \u001B[0;36m<module>\u001B[0;34m()\u001B[0m\n\u001B[1;32m      2\u001B[0m \u001B[0mfile\u001B[0m\u001B[0;34m=\u001B[0m\u001B[0mopen\u001B[0m\u001B[0;34m(\u001B[0m\u001B[0mfileName\u001B[0m\u001B[0;34m,\u001B[0m\u001B[0;34m'r'\u001B[0m\u001B[0;34m)\u001B[0m\u001B[0;34m\u001B[0m\u001B[0m\n\u001B[1;32m      3\u001B[0m \u001B[0mdocs\u001B[0m\u001B[0;34m=\u001B[0m\u001B[0mfile\u001B[0m\u001B[0;34m.\u001B[0m\u001B[0mread\u001B[0m\u001B[0;34m(\u001B[0m\u001B[0;34m)\u001B[0m\u001B[0;34m\u001B[0m\u001B[0m\n\u001B[0;32m----> 4\u001B[0;31m \u001B[0mdic\u001B[0m\u001B[0;34m=\u001B[0m\u001B[0mjson\u001B[0m\u001B[0;34m.\u001B[0m\u001B[0mloads\u001B[0m\u001B[0;34m(\u001B[0m\u001B[0mdocs\u001B[0m\u001B[0;34m)\u001B[0m\u001B[0;34m\u001B[0m\u001B[0m\n\u001B[0m",
      "\u001B[0;32m~/anaconda3/lib/python3.6/json/__init__.py\u001B[0m in \u001B[0;36mloads\u001B[0;34m(s, encoding, cls, object_hook, parse_float, parse_int, parse_constant, object_pairs_hook, **kw)\u001B[0m\n\u001B[1;32m    352\u001B[0m             \u001B[0mparse_int\u001B[0m \u001B[0;32mis\u001B[0m \u001B[0;32mNone\u001B[0m \u001B[0;32mand\u001B[0m \u001B[0mparse_float\u001B[0m \u001B[0;32mis\u001B[0m \u001B[0;32mNone\u001B[0m \u001B[0;32mand\u001B[0m\u001B[0;34m\u001B[0m\u001B[0m\n\u001B[1;32m    353\u001B[0m             parse_constant is None and object_pairs_hook is None and not kw):\n\u001B[0;32m--> 354\u001B[0;31m         \u001B[0;32mreturn\u001B[0m \u001B[0m_default_decoder\u001B[0m\u001B[0;34m.\u001B[0m\u001B[0mdecode\u001B[0m\u001B[0;34m(\u001B[0m\u001B[0ms\u001B[0m\u001B[0;34m)\u001B[0m\u001B[0;34m\u001B[0m\u001B[0m\n\u001B[0m\u001B[1;32m    355\u001B[0m     \u001B[0;32mif\u001B[0m \u001B[0mcls\u001B[0m \u001B[0;32mis\u001B[0m \u001B[0;32mNone\u001B[0m\u001B[0;34m:\u001B[0m\u001B[0;34m\u001B[0m\u001B[0m\n\u001B[1;32m    356\u001B[0m         \u001B[0mcls\u001B[0m \u001B[0;34m=\u001B[0m \u001B[0mJSONDecoder\u001B[0m\u001B[0;34m\u001B[0m\u001B[0m\n",
      "\u001B[0;32m~/anaconda3/lib/python3.6/json/decoder.py\u001B[0m in \u001B[0;36mdecode\u001B[0;34m(self, s, _w)\u001B[0m\n\u001B[1;32m    340\u001B[0m         \u001B[0mend\u001B[0m \u001B[0;34m=\u001B[0m \u001B[0m_w\u001B[0m\u001B[0;34m(\u001B[0m\u001B[0ms\u001B[0m\u001B[0;34m,\u001B[0m \u001B[0mend\u001B[0m\u001B[0;34m)\u001B[0m\u001B[0;34m.\u001B[0m\u001B[0mend\u001B[0m\u001B[0;34m(\u001B[0m\u001B[0;34m)\u001B[0m\u001B[0;34m\u001B[0m\u001B[0m\n\u001B[1;32m    341\u001B[0m         \u001B[0;32mif\u001B[0m \u001B[0mend\u001B[0m \u001B[0;34m!=\u001B[0m \u001B[0mlen\u001B[0m\u001B[0;34m(\u001B[0m\u001B[0ms\u001B[0m\u001B[0;34m)\u001B[0m\u001B[0;34m:\u001B[0m\u001B[0;34m\u001B[0m\u001B[0m\n\u001B[0;32m--> 342\u001B[0;31m             \u001B[0;32mraise\u001B[0m \u001B[0mJSONDecodeError\u001B[0m\u001B[0;34m(\u001B[0m\u001B[0;34m\"Extra data\"\u001B[0m\u001B[0;34m,\u001B[0m \u001B[0ms\u001B[0m\u001B[0;34m,\u001B[0m \u001B[0mend\u001B[0m\u001B[0;34m)\u001B[0m\u001B[0;34m\u001B[0m\u001B[0m\n\u001B[0m\u001B[1;32m    343\u001B[0m         \u001B[0;32mreturn\u001B[0m \u001B[0mobj\u001B[0m\u001B[0;34m\u001B[0m\u001B[0m\n\u001B[1;32m    344\u001B[0m \u001B[0;34m\u001B[0m\u001B[0m\n",
      "\u001B[0;31mJSONDecodeError\u001B[0m: Extra data: line 1 column 120 (char 119)"
     ],
     "output_type": "error"
    }
   ],
   "source": [
    "fileName='/home/zhouyang/Desktop/data/08_26.csv'\n",
    "file=open(fileName,'r')\n",
    "docs=file.read()\n",
    "dic=json.loads(docs)"
   ]
  },
  {
   "cell_type": "code",
   "execution_count": null,
   "metadata": {
    "collapsed": true,
    "pycharm": {
     "name": "#%%\n"
    }
   },
   "outputs": [],
   "source": []
  }
 ],
 "metadata": {
  "kernelspec": {
   "display_name": "Python 3",
   "language": "python",
   "name": "python3"
  },
  "language_info": {
   "codemirror_mode": {
    "name": "ipython",
    "version": 3
   },
   "file_extension": ".py",
   "mimetype": "text/x-python",
   "name": "python",
   "nbconvert_exporter": "python",
   "pygments_lexer": "ipython3",
   "version": "3.6.3"
  }
 },
 "nbformat": 4,
 "nbformat_minor": 2
}