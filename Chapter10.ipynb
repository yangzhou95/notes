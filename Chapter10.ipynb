{
 "cells": [
  {
   "cell_type": "markdown",
   "metadata": {},
   "source": [
    "# <p style=\"color:red\">Chapter 10</p>"
   ]
  },
  {
   "cell_type": "markdown",
   "metadata": {},
   "source": [
    "### 1. errors are either syntactical or logical in nature. "
   ]
  },
  {
   "cell_type": "markdown",
   "metadata": {},
   "source": [
    "### 2. exceptions: Exceptions can best be described as action that is taken outside of the normal flow of control because of errors."
   ]
  },
  {
   "cell_type": "markdown",
   "metadata": {},
   "source": [
    "### 3. exceptions:\n",
    "\n",
    "#### * NameError indicates access to an uninitialized variable.Any object that is accessible should be listed in a namespace. \n",
    "#### * SyntaxError exceptions are the only ones that do not occur at run- time. \n",
    "#### * IndexError is raised when attempting to access an index that is outside the valid range of a sequence.\n",
    "#### * Such values are not retrieved if an incorrect/nonexistent key is requested. In this case, a KeyError is raised to indicate such an incident has occurred.\n",
    "#### * Attempting to open a nonexistent disk file is one example of an operating system input/output (I/O) error.\n",
    "#### * Once an attribute has been defined, we can access it using the familiar dotted-attribute notation, but if it has not, as in our case with the foo (non-)attribute, an AttributeError occurs.\n"
   ]
  },
  {
   "cell_type": "markdown",
   "metadata": {},
   "source": [
    "### 4. detecting and handling exceptions\n",
    "\n",
    "#### * Exceptions can be detected by incorporating them as part of a try statement. Any code suite of a try statement will be monitored for exceptions.\n",
    "\n",
    "#### * There are two main forms of the try statement: try-except and try- finally. These statements are mutually exclusive, meaning that you pick only one of them. A try statement can be accompanied by one or more except clauses, exactly one finally clause, or a hybrid try-except-finally combination.\n",
    "\n",
    "#### *  There is even an optional else clause for situations where code needs to run only when no exceptions are detected. \n",
    "\n",
    "#### * Meanwhile, try-finally statements allow only for detection and processing of any obligatory cleanup (whether or not exceptions occur), but otherwise have no facility in dealing with exceptions.\n",
    "\n"
   ]
  },
  {
   "cell_type": "code",
   "execution_count": 1,
   "metadata": {},
   "outputs": [
    {
     "ename": "IndentationError",
     "evalue": "expected an indented block (<ipython-input-1-5c0349396ec4>, line 2)",
     "output_type": "error",
     "traceback": [
      "\u001b[0;36m  File \u001b[0;32m\"<ipython-input-1-5c0349396ec4>\"\u001b[0;36m, line \u001b[0;32m2\u001b[0m\n\u001b[0;31m    try_suite # watch for exceptions here\u001b[0m\n\u001b[0m            ^\u001b[0m\n\u001b[0;31mIndentationError\u001b[0m\u001b[0;31m:\u001b[0m expected an indented block\n"
     ]
    }
   ],
   "source": [
    "try:\n",
    "try_suite # watch for exceptions here\n",
    "except Exception[, reason]:\n",
    "    # reason is a instance of Exception, and \n",
    "    # it contains the diagnostic information about errors.\n",
    "except_suite # exception-handling code"
   ]
  },
  {
   "cell_type": "markdown",
   "metadata": {},
   "source": [
    "#### a. the interpreter attempts to execute all the code within the try statement. If an exception does not occur when the code block has completed, execution resumes past the except statement. \n",
    "\n",
    "#### * The remaining code in the try suite from the point of the exception is never reached (hence never executed).\n",
    "\n",
    "#### * If the search is exhausted without finding an appropriate handler, the exception is then propagated to the caller’s level for handling, meaning the stack frame immediately preceding the current one"
   ]
  },
  {
   "cell_type": "code",
   "execution_count": 3,
   "metadata": {},
   "outputs": [
    {
     "ename": "SyntaxError",
     "evalue": "invalid syntax (<ipython-input-3-d2d124f520d2>, line 1)",
     "output_type": "error",
     "traceback": [
      "\u001b[0;36m  File \u001b[0;32m\"<ipython-input-3-d2d124f520d2>\"\u001b[0;36m, line \u001b[0;32m1\u001b[0m\n\u001b[0;31m    except (Exception1, Exception2)[, reason]:\u001b[0m\n\u001b[0m         ^\u001b[0m\n\u001b[0;31mSyntaxError\u001b[0m\u001b[0;31m:\u001b[0m invalid syntax\n"
     ]
    }
   ],
   "source": [
    "except (Exception1, Exception2)[, reason]: \n",
    "    # except statements that process more \n",
    "    # than one exception require that the \n",
    "    #set of exceptions be contained in a tuple:\n",
    "    suite_for_Exception1_and_Exception2\n",
    "except (Exc1[, Exc2[, ... ExcN]])[, reason]: \n",
    "    suite_for_exceptions_Exc1_to_ExcN\n",
    "#any number of exceptions can follow an except\n",
    "# statement as long as they are all properly \n",
    "#enclosed in a tuple"
   ]
  },
  {
   "cell_type": "markdown",
   "metadata": {},
   "source": [
    "#### * sys.exc_ info(): execution information "
   ]
  },
  {
   "cell_type": "markdown",
   "metadata": {},
   "source": [
    "#### * KeyboardInterrupt is when a user presses CTRL-C (^C) to terminate Python."
   ]
  },
  {
   "cell_type": "markdown",
   "metadata": {},
   "source": [
    "#### *  a new “mother of all exception” classes named BaseException was installed"
   ]
  },
  {
   "cell_type": "markdown",
   "metadata": {},
   "source": [
    "#### * Avoid using try-except around a large block of code with a pass just to hide errors. "
   ]
  },
  {
   "cell_type": "code",
   "execution_count": 4,
   "metadata": {},
   "outputs": [
    {
     "ename": "SyntaxError",
     "evalue": "invalid syntax (<ipython-input-4-bfdf6416008d>, line 2)",
     "output_type": "error",
     "traceback": [
      "\u001b[0;36m  File \u001b[0;32m\"<ipython-input-4-bfdf6416008d>\"\u001b[0;36m, line \u001b[0;32m2\u001b[0m\n\u001b[0;31m    except Exception[, reason]:\u001b[0m\n\u001b[0m         ^\u001b[0m\n\u001b[0;31mSyntaxError\u001b[0m\u001b[0;31m:\u001b[0m invalid syntax\n"
     ]
    }
   ],
   "source": [
    "# single exception\n",
    "except Exception[, reason]:\n",
    "         suite_for_Exception_with_Argument\n",
    "# multiple exceptions\n",
    "except (Exception1, Exception2, ..., ExceptionN)[, reason]:\n",
    "suite_for_Exception1_to_ExceptionN_with_Argument\n",
    "# reason is a class instance containing diagnostic \n",
    "# information from the code raising the exception.\n",
    "# The exception arguments themselves go into a tuple\n",
    "# that is stored as an attribute of the class instance,\n",
    "# an instance of the exception class from which it was \n",
    "# instantiated. In the first alternate syntax above, \n",
    "# rea- son is an instance of the Exception class."
   ]
  },
  {
   "cell_type": "markdown",
   "metadata": {},
   "source": [
    "#### The exception arguments themselves go into a tuple that is stored as an attribute of the class instance, an instance of the exception class from which it was instantiated. In the first alternate syntax above, rea- son is an instance of the Exception class."
   ]
  },
  {
   "cell_type": "markdown",
   "metadata": {},
   "source": [
    "#### For most standard built-in exceptions, that is, exceptions derived from StandardError, the tuple consists of a single string indicating the cause of the error. i.e., IOError, will also include an operating system error number that precedes the error string in the tuple."
   ]
  },
  {
   "cell_type": "markdown",
   "metadata": {},
   "source": [
    "#### Whether a reason contains just a string or a combination of an error num- ber and a string, calling str(reason) should present a human-readable cause of an error."
   ]
  },
  {
   "cell_type": "markdown",
   "metadata": {},
   "source": [
    "#### When you raise built-in exceptions in your own code, try to follow the protocol established by the existing Python code as far as the error information that is part of the tuple passed as the exception argument. "
   ]
  },
  {
   "cell_type": "markdown",
   "metadata": {},
   "source": [
    "#### \\__class\\__ instance attribute, which identifies which class an instance was instantiated from. "
   ]
  },
  {
   "cell_type": "markdown",
   "metadata": {},
   "source": [
    "#### The else clause executes if no exceptions were detected in the preceding try suite. All code within the try suite must have completed successfully (i.e., con- cluded with no exceptions raised) before any code in the else suite begins execution."
   ]
  },
  {
   "cell_type": "markdown",
   "metadata": {},
   "source": [
    "#### A finally clause is one where its suite or block of code is executed regardless of whether an exception occurred or whether it was caught (or not)"
   ]
  },
  {
   "cell_type": "code",
   "execution_count": 5,
   "metadata": {},
   "outputs": [
    {
     "ename": "NameError",
     "evalue": "name 'D' is not defined",
     "output_type": "error",
     "traceback": [
      "\u001b[0;31m---------------------------------------------------------------------------\u001b[0m",
      "\u001b[0;31mNameError\u001b[0m                                 Traceback (most recent call last)",
      "\u001b[0;32m<ipython-input-5-def9e5334782>\u001b[0m in \u001b[0;36m<module>\u001b[0;34m()\u001b[0m\n\u001b[1;32m      1\u001b[0m \u001b[0;32mtry\u001b[0m\u001b[0;34m:\u001b[0m\u001b[0;34m\u001b[0m\u001b[0m\n\u001b[0;32m----> 2\u001b[0;31m     \u001b[0mA\u001b[0m\u001b[0;34m\u001b[0m\u001b[0m\n\u001b[0m\u001b[1;32m      3\u001b[0m \u001b[0;32mexcept\u001b[0m \u001b[0mMyException\u001b[0m\u001b[0;34m:\u001b[0m \u001b[0mB\u001b[0m\u001b[0;34m\u001b[0m\u001b[0m\n",
      "\u001b[0;31mNameError\u001b[0m: name 'A' is not defined",
      "\nDuring handling of the above exception, another exception occurred:\n",
      "\u001b[0;31mNameError\u001b[0m                                 Traceback (most recent call last)",
      "\u001b[0;32m<ipython-input-5-def9e5334782>\u001b[0m in \u001b[0;36m<module>\u001b[0;34m()\u001b[0m\n\u001b[1;32m      2\u001b[0m     \u001b[0mA\u001b[0m\u001b[0;34m\u001b[0m\u001b[0m\n\u001b[0;32m----> 3\u001b[0;31m \u001b[0;32mexcept\u001b[0m \u001b[0mMyException\u001b[0m\u001b[0;34m:\u001b[0m \u001b[0mB\u001b[0m\u001b[0;34m\u001b[0m\u001b[0m\n\u001b[0m\u001b[1;32m      4\u001b[0m \u001b[0;32melse\u001b[0m\u001b[0;34m:\u001b[0m\u001b[0;34m\u001b[0m\u001b[0m\n",
      "\u001b[0;31mNameError\u001b[0m: name 'MyException' is not defined",
      "\nDuring handling of the above exception, another exception occurred:\n",
      "\u001b[0;31mNameError\u001b[0m                                 Traceback (most recent call last)",
      "\u001b[0;32m<ipython-input-5-def9e5334782>\u001b[0m in \u001b[0;36m<module>\u001b[0;34m()\u001b[0m\n\u001b[1;32m      5\u001b[0m     \u001b[0mC\u001b[0m\u001b[0;34m\u001b[0m\u001b[0m\n\u001b[1;32m      6\u001b[0m \u001b[0;32mfinally\u001b[0m\u001b[0;34m:\u001b[0m\u001b[0;34m\u001b[0m\u001b[0m\n\u001b[0;32m----> 7\u001b[0;31m     \u001b[0mD\u001b[0m\u001b[0;34m\u001b[0m\u001b[0m\n\u001b[0m",
      "\u001b[0;31mNameError\u001b[0m: name 'D' is not defined"
     ]
    }
   ],
   "source": [
    "try: \n",
    "    A\n",
    "except MyException: \n",
    "    B\n",
    "else: \n",
    "    C\n",
    "finally: \n",
    "    D"
   ]
  },
  {
   "cell_type": "markdown",
   "metadata": {},
   "source": [
    "## 5. context management"
   ]
  },
  {
   "cell_type": "markdown",
   "metadata": {},
   "source": [
    "#### a. The specific use that the with state- ment targets is when try-except and try-finally are used together in order to achieve the sole allocation of a shared resource for execution, then releasing it once the job is done."
   ]
  },
  {
   "cell_type": "markdown",
   "metadata": {},
   "source": [
    "#### b. the with statement’s goal is to remove the try, except, and finally keywords and the allocation and release code from the picture altogether."
   ]
  },
  {
   "cell_type": "markdown",
   "metadata": {},
   "source": [
    "#### c. you cannot use the with statement merely with any expression in Python. It only works with objects that support what is called the context management protocol. This simply means that only objects that are built with “context management” can be used with a with statement. ---file-like object"
   ]
  },
  {
   "cell_type": "code",
   "execution_count": 6,
   "metadata": {},
   "outputs": [
    {
     "ename": "SyntaxError",
     "evalue": "invalid syntax (<ipython-input-6-0571dca64746>, line 1)",
     "output_type": "error",
     "traceback": [
      "\u001b[0;36m  File \u001b[0;32m\"<ipython-input-6-0571dca64746>\"\u001b[0;36m, line \u001b[0;32m1\u001b[0m\n\u001b[0;31m    with open('/etc/passwd', 'r') as f: for eachLine in f:\u001b[0m\n\u001b[0m                                          ^\u001b[0m\n\u001b[0;31mSyntaxError\u001b[0m\u001b[0;31m:\u001b[0m invalid syntax\n"
     ]
    }
   ],
   "source": [
    "with open('/etc/passwd', 'r') as f: for eachLine in f:\n",
    "# ...do stuff with eachLine or f..."
   ]
  },
  {
   "cell_type": "markdown",
   "metadata": {},
   "source": [
    "#### d. It will do some preliminary work, such as attempt to open the file, and if all goes well, assign the file object to f. Then it iterates over each line in the file and does whatever processing you need to do. Once the file has been exhausted, it is closed. If an exception occurs either at the beginning, middle, or end of the block, then some cleanup code must be done, but the file will still be closed automatically."
   ]
  },
  {
   "cell_type": "markdown",
   "metadata": {},
   "source": [
    "#### e. When the with statement is executed, the context expression is evaluated to obtain what is called a context manager. The job of the context man- ager is to provide a context object. It does this by invoking its required __context__() special method. The return value of this method is the context object that will be used for this particular execution of the with_suite. One side note is that a context object itself can be its own manager, so context_expr can really be either a real context manager or a context object serving as its own manager.In the latter case, the context object also has a __context__() method, which returns self, as expected."
   ]
  },
  {
   "cell_type": "markdown",
   "metadata": {},
   "source": [
    "#### f.Once we have a context object, its __enter__() special method is invoked.This does all the preliminary stuff before the with_suite executes.If var is provided, it is assigned the return value of __enter__(). Now the with_suite executes. When execution of with_suite termi- nates, whether “naturally” or via exception, the context object’s __exit__() special method is called. __exit__() takes three arguments. If with_suite terminates normally, all three parameters passed in are None. If an exception occurred, then the three arguments are the same three values returned when calling the sys.exc_info() function (see section 10.12): type (exception class), value (this exception’s instance), and traceback, the corresponding traceback object."
   ]
  },
  {
   "cell_type": "code",
   "execution_count": 11,
   "metadata": {},
   "outputs": [
    {
     "data": {
      "text/plain": [
       "(None, None, None)"
      ]
     },
     "execution_count": 11,
     "metadata": {},
     "output_type": "execute_result"
    }
   ],
   "source": [
    "import sys\n",
    "sys.exc_info()"
   ]
  },
  {
   "cell_type": "markdown",
   "metadata": {},
   "source": [
    "#### g.It is up to you to decide how you want to handle the exception here in __exit__(). The usual thing to do after you are done is not to return any- thing from __exit__() or return None or some other Boolean False object. "
   ]
  },
  {
   "cell_type": "markdown",
   "metadata": {},
   "source": [
    "#### h.Since context management makes the most sense for shared resources, you can imagine that the __enter__() and __exit__() methods will primarily be used for doing the lower-level work required to allocate and release resources"
   ]
  },
  {
   "cell_type": "markdown",
   "metadata": {},
   "source": [
    "#### i. To help you with writing context managers for objects, there is the con- textlib module, which contains useful functions/decorators with which you can apply over your functions or objects and not have to worry about implementing a class or separate __context__(), __enter__(), __exit__() special methods."
   ]
  },
  {
   "cell_type": "markdown",
   "metadata": {},
   "source": [
    "### 6.raise Statement"
   ]
  },
  {
   "cell_type": "markdown",
   "metadata": {},
   "source": [
    "#### a. raise [SomeException [, args [, traceback]]]"
   ]
  },
  {
   "cell_type": "markdown",
   "metadata": {},
   "source": [
    "#### b.The first argument, SomeException, is the name of the exception to raise. If present, it must either be a string, class, or instance (more below). SomeEx- ception must be given if any of the other arguments (args or traceback) are present."
   ]
  },
  {
   "cell_type": "markdown",
   "metadata": {},
   "source": [
    "#### The second expression contains optional args (aka parameters, values) for the exception. This value is either a single object or a tuple of objects. When exceptions are detected, the exception arguments are always returned as a tuple. If args is a tuple, then that tuple represents the same set of exception arguments that are given to the handler. If args is a single object, then the tuple will consist solely of this one object (i.e., a tuple with one ele- ment). In most cases, the single argument consists of a string indicating the cause of the error. When a tuple is given, it usually equates to an error string, an error number, and perhaps an error location, such as a file, etc.\n",
    "The final argument, traceback, is also optional (and rarely used in prac- tice), and, if present, is the traceback object used for the exception—nor- mally a traceback object is newly created when an exception is raised. This third argument is useful if you want to reraise an exception (perhaps to point to the previous location from the current). Arguments that are absent are represented by the value None."
   ]
  },
  {
   "cell_type": "markdown",
   "metadata": {},
   "source": [
    "#### The assert statement evaluates a Python expression, taking no action if the assertion succeeds (similar to a pass statement), but otherwise raising an AssertionError exception. The syntax for assert is: assert expression[, arguments]. An expression is tested, and if the result comes up false, an exception is raised."
   ]
  },
  {
   "cell_type": "code",
   "execution_count": 15,
   "metadata": {},
   "outputs": [],
   "source": [
    "assert 1==1"
   ]
  },
  {
   "cell_type": "code",
   "execution_count": 17,
   "metadata": {},
   "outputs": [
    {
     "ename": "AssertionError",
     "evalue": "one does not equal to zero, silly",
     "output_type": "error",
     "traceback": [
      "\u001b[0;31m---------------------------------------------------------------------------\u001b[0m",
      "\u001b[0;31mAssertionError\u001b[0m                            Traceback (most recent call last)",
      "\u001b[0;32m<ipython-input-17-96a4d5617cf1>\u001b[0m in \u001b[0;36m<module>\u001b[0;34m()\u001b[0m\n\u001b[1;32m      1\u001b[0m \u001b[0;31m# assert expression[, arguments]\u001b[0m\u001b[0;34m\u001b[0m\u001b[0;34m\u001b[0m\u001b[0m\n\u001b[0;32m----> 2\u001b[0;31m \u001b[0;32massert\u001b[0m \u001b[0;36m1\u001b[0m\u001b[0;34m==\u001b[0m\u001b[0;36m0\u001b[0m\u001b[0;34m,\u001b[0m\u001b[0;34m\"one does not equal to zero, silly\"\u001b[0m\u001b[0;34m\u001b[0m\u001b[0m\n\u001b[0m",
      "\u001b[0;31mAssertionError\u001b[0m: one does not equal to zero, silly"
     ]
    }
   ],
   "source": [
    "# assert expression[, arguments]\n",
    "assert 1==0,\"one does not equal to zero, silly\""
   ]
  },
  {
   "cell_type": "code",
   "execution_count": 18,
   "metadata": {},
   "outputs": [
    {
     "ename": "SyntaxError",
     "evalue": "invalid syntax (<ipython-input-18-b5f68b26f643>, line 2)",
     "output_type": "error",
     "traceback": [
      "\u001b[0;36m  File \u001b[0;32m\"<ipython-input-18-b5f68b26f643>\"\u001b[0;36m, line \u001b[0;32m2\u001b[0m\n\u001b[0;31m    def assert(expr, args=None):\u001b[0m\n\u001b[0m             ^\u001b[0m\n\u001b[0;31mSyntaxError\u001b[0m\u001b[0;31m:\u001b[0m invalid syntax\n"
     ]
    }
   ],
   "source": [
    "# the implementation of assert probably look something like this:\n",
    "def assert(expr, args=None): \n",
    "    if __debug__ and not expr:\n",
    "        raise AssertionError, args"
   ]
  },
  {
   "cell_type": "markdown",
   "metadata": {},
   "source": [
    "### * There are currently three immediate subclasses of BaseExcep- tion: SystemExit, KeyboardInterrupt, and Exception. All other built-in exceptions are subclasses of Exceptions. "
   ]
  },
  {
   "cell_type": "markdown",
   "metadata": {},
   "source": [
    "### Exceptions and the sys Module\n",
    "\n",
    "#### * An alternative way of obtaining exception information is by accessing the exc_info() function in the sys module. This function provides a 3-tuple of information, more than what we can achieve by simply using only the exception argument."
   ]
  },
  {
   "cell_type": "code",
   "execution_count": 20,
   "metadata": {},
   "outputs": [
    {
     "name": "stdout",
     "output_type": "stream",
     "text": [
      "(<class 'ValueError'>, ValueError(\"could not convert string to float: 'ag234'\",), <traceback object at 0x10eb0acc8>)\n"
     ]
    }
   ],
   "source": [
    "try:\n",
    "    float('ag234')\n",
    "except:\n",
    "    import sys\n",
    "    exc_tuple=sys.exc_info()\n",
    "print(exc_tuple)"
   ]
  },
  {
   "cell_type": "code",
   "execution_count": 21,
   "metadata": {
    "collapsed": true
   },
   "outputs": [],
   "source": [
    "# What we get from sys.exc_info() in a tuple are:\n",
    "# • exc_type:exceptionclassobject\n",
    "# • exc_value: (this) exception class instance object \n",
    "# • exc_traceback:tracebackobject"
   ]
  },
  {
   "cell_type": "markdown",
   "metadata": {},
   "source": [
    "####  This third arguments is an object that provides the execution context of where the excep- tion occurred. It contains information such as the execution frame of the code that was running and the line number where the exception occurred."
   ]
  },
  {
   "cell_type": "code",
   "execution_count": null,
   "metadata": {
    "collapsed": true
   },
   "outputs": [],
   "source": []
  }
 ],
 "metadata": {
  "kernelspec": {
   "display_name": "Python 3",
   "language": "python",
   "name": "python3"
  },
  "language_info": {
   "codemirror_mode": {
    "name": "ipython",
    "version": 3
   },
   "file_extension": ".py",
   "mimetype": "text/x-python",
   "name": "python",
   "nbconvert_exporter": "python",
   "pygments_lexer": "ipython3",
   "version": "3.6.3"
  }
 },
 "nbformat": 4,
 "nbformat_minor": 2
}
