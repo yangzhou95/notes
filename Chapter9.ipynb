{
 "cells": [
  {
   "cell_type": "markdown",
   "metadata": {},
   "source": [
    "# <p style=\"color:red\">Chapter 9</p>"
   ]
  },
  {
   "cell_type": "markdown",
   "metadata": {},
   "source": [
    "### 1.File objects can be used to access not only normal disk files, but also any other type of “file” that uses that abstraction.The open() built-in function (see below) returns a file object that is then used for all succeeding operations on the file in question"
   ]
  },
  {
   "cell_type": "markdown",
   "metadata": {},
   "source": [
    "### 2.As the key to opening file doors, the open() [and file()] built-in function provides a general interface to initiate the file input/output (I/O) process.\n",
    "\n",
    "* The open() BIF returns a file object on a successful opening of the file or else results in an error situation\n",
    "\n",
    "* file_object = open(file_name, access_mode='r', buffering=-1)\n",
    "\n",
    "* A 'U' mode also exists for universal NEWLINE support (see below).\n",
    "\n",
    "* Any file opened with mode 'r' or 'U' must exist.\n",
    "\n",
    "* Any file opened with 'w' will be truncated (clean the data) first if it exists, and then the file is (re)created.\n",
    "\n",
    "* All writes to files opened with 'a' will be from end-of-file, even if you seek elsewhere during access.\n",
    "\n",
    "* If the file does not exist, it will be created, making it the same as if you opened the file in 'w' mode.\n",
    "\n",
    "* If access_mode is not given, it defaults automatically to 'r.'\n",
    "\n",
    "* The other optional argument, buffering, is used to indicate the type of buffering that should be performed when accessing the file. \n",
    "    * A value of 0 means no buffering should occur, \n",
    "    * a value of 1 signals line buffering, \n",
    "    * and any value greater than 1 indicates buffered I/O with the given value as the buffer size.\n",
    "    * greater than 1 indicates buffered I/O with the given value as the buffer size.\n",
    "    * The lack of or a negative value indicates that the system default bufferingscheme should be used, which is line buffering for any teletype or tty-like device and normal buffering for everything else.\n"
   ]
  },
  {
   "cell_type": "markdown",
   "metadata": {},
   "source": [
    "### 3. file() factory function\n",
    "### * Both open() and file() do exactly the same thing and one can be used in place of the other. Anywhere you see references to open(), you can mentally substitute file() without any side effects whatsoever.\n",
    "\n",
    "### * Generally, the accepted style is that you use open() for reading/writing files, while file() is best used when you want to show that you are dealing with file objects, i.e., if instance(f, file)."
   ]
  },
  {
   "cell_type": "markdown",
   "metadata": {},
   "source": [
    "### 4.Universal NEWLINE Support (UNS)\n",
    "\n",
    "### * os module can help you navigate files across different platforms, all of which terminate lines with different endings, i.e., \\n, \\r, or \\r\\n.\n",
    "\n",
    "### * When you use the 'U' flag to open a file, all line separators (or terminators) will be returned by Python via any file input method, i.e., read*(), as a NEWLINE character ( \\n ) regardless of what the line-endings are.\n",
    "\n",
    "### * This feature will also support files that have multiple types of line-endings. A file.newlines attribute tracks the types of line separation characters “seen.”\n",
    "### * file.newlines is a list that includes all the terminators it meet, otherwise it's None. Note that UNS only applies to reading text files. There is no equivalent handling of file output."
   ]
  },
  {
   "cell_type": "markdown",
   "metadata": {
    "collapsed": true
   },
   "source": [
    "### 5. File methods come in four different categories: input, output, movement within a file, which we will call “intra-file motion,” and miscellaneous."
   ]
  },
  {
   "cell_type": "markdown",
   "metadata": {},
   "source": [
    "#### a. input\n",
    "#### * read(size_of_bytes=-1):  read bytes directly into a string, reading at most the number of bytes indicated. If no size is given (the default value is set to integer -1) or size is negative, the file will be read to the end.\n",
    "\n",
    "#### * readline(size_fo_bytes=-1): read a line and return the line ( including the line-terminator), size_to_read defaults to -1, mean- ing read until the line-ending characters (or EOF) are found. If present, it is possible that an incomplete line is returned if it exceeds size bytes.\n",
    "\n",
    "#### * readlines(sizhint):  it reads all (remaining) lines and returns them as a list of strings. sizhint, is a hint on the maximum size desired in bytes. If provided and greater than zero, approximately sizhint bytes in whole lines are read (perhaps slightly more to round up to the next buffer size) and returned as a list.\n",
    "\n"
   ]
  },
  {
   "cell_type": "markdown",
   "metadata": {},
   "source": [
    "### b. output\n",
    "\n",
    "#### * write(): It takes a string that can consist of one or more lines of text data or a block of bytes and writes the data to the file.\n",
    "#### * writelines(): operates on a list just like readlines(), but takes a list of strings and writes them out to a file. Line termination charac- ters are not inserted between each line, so if desired, they must be added to the end of each line before writelines() is called.\n",
    "\n",
    "#### * When reading lines in from a file using file input methods like read() or readlines(), Python does not remove the line termination characters. It is up to the programmer.\n",
    "\n",
    "#### * Similarly, output methods like write() or writelines() do not add line terminators for the programmer... you have to do it yourself before writing the data to the file."
   ]
  },
  {
   "cell_type": "markdown",
   "metadata": {},
   "source": [
    "### C. intra-file motion\n",
    "#### * seek() method (analogous to the fseek() function in C) moves the file pointer to different positions within the file. \n",
    "#### * The offset in bytes is given along with a relative offset location, whence. #### * A value of 0, the default, indicates dis-tance from the beginning of a file (note that a position measured from the beginning of a file is also known as the absolute offset),\n",
    "#### * a value of 1 indicates movement from the current location in the file, and #### * a value of 2 indicates that the offset is from the end of the file.  Use of the seek() method comes into play when opening a file for read and write access.\n",
    "#### * tell() is a complementary method to seek(); it tells you the current location of the file—in bytes from the beginning of the file."
   ]
  },
  {
   "cell_type": "markdown",
   "metadata": {},
   "source": [
    "### 5. file iteration:\n",
    "    "
   ]
  },
  {
   "cell_type": "code",
   "execution_count": 2,
   "metadata": {},
   "outputs": [
    {
     "ename": "NameError",
     "evalue": "name 'f' is not defined",
     "output_type": "error",
     "traceback": [
      "\u001b[0;31m---------------------------------------------------------------------------\u001b[0m",
      "\u001b[0;31mNameError\u001b[0m                                 Traceback (most recent call last)",
      "\u001b[0;32m<ipython-input-2-9fc639ac7422>\u001b[0m in \u001b[0;36m<module>\u001b[0;34m()\u001b[0m\n\u001b[0;32m----> 1\u001b[0;31m \u001b[0;32mfor\u001b[0m \u001b[0meachLine\u001b[0m \u001b[0;32min\u001b[0m \u001b[0mf\u001b[0m\u001b[0;34m:\u001b[0m \u001b[0;31m# f is an iterator, f.next()read in the next line\u001b[0m\u001b[0;34m\u001b[0m\u001b[0m\n\u001b[0m\u001b[1;32m      2\u001b[0m     \u001b[0;32mpass\u001b[0m\u001b[0;34m\u001b[0m\u001b[0m\n\u001b[1;32m      3\u001b[0m \u001b[0;31m#Going through a file line by line is simple:\u001b[0m\u001b[0;34m\u001b[0m\u001b[0;34m\u001b[0m\u001b[0m\n",
      "\u001b[0;31mNameError\u001b[0m: name 'f' is not defined"
     ]
    }
   ],
   "source": [
    "for eachLine in f: # f is an iterator, f.next()read in the next line\n",
    "    pass\n",
    "#Going through a file line by line is simple:"
   ]
  },
  {
   "cell_type": "markdown",
   "metadata": {},
   "source": [
    "### In file iteration, file objects became their own iterators, meaning that users could now iterate through lines of a file using a for loop without having to call read*() methods. Alternatively, the iterator next method, file.next() could be called as well to read in the next line in the file. Like all other iterators, Python will raise StopIteration when no more lines are available."
   ]
  },
  {
   "cell_type": "markdown",
   "metadata": {},
   "source": [
    "### 6.close file\n",
    "#### * close() method completes access to a file by closing it.\n",
    "\n",
    "#### * The Python gar- bage collection routine will also close a file when the file object reference has decreased to zero.\n",
    "\n",
    "#### * The fileno() method passes back the file descriptor to the open file.\n",
    "\n",
    "#### * Rather than waiting for the (contents of the) output buffer to be written to disk, calling the flush() method will cause the contents of the internal buffer to be written (or flushed) to the file immediately.\n",
    "\n",
    "#### * isatty() is a Boolean built-in method that returns True if the file is a tty-like device and False otherwise. \n",
    "#### * The truncate() method truncates the file to the size at the current file position or the given size in bytes."
   ]
  },
  {
   "cell_type": "markdown",
   "metadata": {},
   "source": [
    "### 7. os module\n",
    "\n",
    "* linesep: String used to separate lines in a file\n",
    "* sep: String used to separate file pathname components\n",
    "* pathsep: String used to delimit a set of file pathnames\n",
    "* curdir: String name for current working directory\n",
    "* pardir: String name for parent (of current working directory)"
   ]
  },
  {
   "cell_type": "markdown",
   "metadata": {},
   "source": [
    "#### comma placed at the end of the print statement is to suppress the NEWLINE character that print normally adds at the end of output."
   ]
  },
  {
   "cell_type": "markdown",
   "metadata": {},
   "source": [
    "#### truncate() method, which takes one optional argument, size. If it is given, then the file will be truncated to, at most, size bytes. If you call truncate() without passing in a size, it will default to the current location in the file.\n"
   ]
  },
  {
   "cell_type": "code",
   "execution_count": 8,
   "metadata": {},
   "outputs": [
    {
     "name": "stdout",
     "output_type": "stream",
     "text": [
      "Enter file name: test_input.txt\n",
      "Enter a line ('.' to quit): This is a beautiful girl!\n",
      "Enter a line ('.' to quit): agaghoahg asgha.\n",
      "Enter a line ('.' to quit): .\n"
     ]
    }
   ],
   "source": [
    "import os\n",
    "filename = input('Enter file name: ') \n",
    "fobj = open(filename, 'w')\n",
    "while True:\n",
    "    aLine = input(\"Enter a line ('.' to quit): \") \n",
    "    if aLine != \".\":\n",
    "        fobj.write('%s%s' % (aLine, os.linesep)) \n",
    "    else:\n",
    "        break\n",
    "fobj.close()\n",
    "    "
   ]
  },
  {
   "cell_type": "markdown",
   "metadata": {},
   "source": [
    "#### raw_input() does not preserve it from the user input\n"
   ]
  },
  {
   "cell_type": "markdown",
   "metadata": {},
   "source": [
    "### 8. file attributes\n",
    "#### * file.closed:\n",
    "#### * file.encoding:Encoding that this file uses—when Unicode strings are written to file, they will be converted to byte strings using file.encoding; a value of None indicates that the system default encoding for converting Unicode strings should be used\n",
    "#### * file.mode:\n",
    "#### * file.name: \n",
    "#### * file.newlines: None if no line separators have been read, a string con- sisting of one type of line separator, or a tuple containing all types of line termination characters read so fa\n",
    "#### * file.softspace: 0 if space explicitly required with print, 1 otherwise; rarely used by the programmer—generally for internal use only"
   ]
  },
  {
   "cell_type": "markdown",
   "metadata": {},
   "source": [
    "### 9. There are generally three standard files that are made available to you when your program starts. These are standard input (usually the keyboard), stan- dard output (buffered output to the monitor or display), and standard error (unbuffered output to the screen). (The “buffered” or “unbuffered” output refers to that third argument to open())\n",
    "\n",
    "* These files are named stdin, stdout, and stderr"
   ]
  },
  {
   "cell_type": "markdown",
   "metadata": {},
   "source": [
    "### 10. Python makes these file handles available to you from the sys module. Once you import sys, you have access to these files as sys.stdin, sys.stdout, and sys.stderr. The print statement normally outputs to sys.stdout while the raw_input() built-in function receives its input from sys.stdin."
   ]
  },
  {
   "cell_type": "markdown",
   "metadata": {},
   "source": [
    "### 11. Just remember that since sys.* are files, you have to manage the line sep- aration characters. The print statement has the built-in feature of automati- cally adding one to the end of a string to output."
   ]
  },
  {
   "cell_type": "markdown",
   "metadata": {},
   "source": [
    "### 12. The sys module also provides access to any command-line arguments via sys.argv.\n",
    "### * sys.argv is the list of command-line arguments\n",
    "### * sys.argv[0], is always the program name.\n",
    "### * len(sys.argv) is the number of command-line arguments (aka argc)"
   ]
  },
  {
   "cell_type": "markdown",
   "metadata": {},
   "source": [
    "### 12. Python has two modules to help process command-line arguments. The first (and original), getopt is easier but less sophisticated, while optparse, introduced in Python 2.3, is more powerful library and is much more object-oriented than its predecessor. If you are just getting started, we recommend getopt, but once you outgrow its feature set, then check out optparse."
   ]
  },
  {
   "cell_type": "markdown",
   "metadata": {},
   "source": [
    "### 13. File system\n",
    "\n"
   ]
  },
  {
   "cell_type": "markdown",
   "metadata": {},
   "source": [
    "#### a.  Access to your file system occurs mostly through the Python os module. This module serves as the primary interface to your operating system facilities and services from Python. The os module is actually a front-end to the real mod- ule that is loaded, a module that is clearly operating system–dependent."
   ]
  },
  {
   "cell_type": "markdown",
   "metadata": {},
   "source": [
    "#### b.In addition to managing processes and the process execution environment, the os module performs most of the major file system operations that the application developer may wish to take advantage of. These features include removing and renaming files, traversing the directory tree, and managing file accessibility. "
   ]
  },
  {
   "cell_type": "markdown",
   "metadata": {},
   "source": [
    "#### c. os.path performs specific pathname operations. The os.path module is accessible through the os module. os. path provides functions to manage and manipulate file pathname components, obtain file or directory information, and make file path inquiries. "
   ]
  },
  {
   "cell_type": "markdown",
   "metadata": {},
   "source": [
    "#### d. os module and os.path allow for consistent access to the file system regardless of platform or operating system. "
   ]
  },
  {
   "cell_type": "markdown",
   "metadata": {},
   "source": [
    "#### os module file processing\n",
    "#### * mkfifo()/mknod(): Create named pipe/create filesystem node\n",
    "\n",
    "#### * remove()/unlink():  Delete file\n",
    "\n",
    "#### * rename()/renames(): Rename file\n",
    "\n",
    "#### * statc(): Return file statistics\n",
    "\n",
    "#### * symlink(): Create symbolic link\n",
    "\n",
    "#### * utime(): Update timestamp\n",
    "\n",
    "#### * tmpfile(): Create and open ('w+b') new temporary file\n",
    "\n",
    "#### * walk(): Generate filenames in a directory tree"
   ]
  },
  {
   "cell_type": "markdown",
   "metadata": {},
   "source": [
    "#### os module directory access functions:\n",
    "#### * chdir()/fchdir(): Change working directory/via a file descriptor\n",
    "#### * chroot(): Change root directory of current process\n",
    "#### * listdir(): List files in directory\n",
    "#### * getcwd()/getcwdu(): Return current working directory/same but in Unicode\n",
    "#### * mkdir()/makedirs(): Create directory(ies)\n",
    "#### * rmdir()/removedirs(): Remove directory(ies)"
   ]
  },
  {
   "cell_type": "markdown",
   "metadata": {},
   "source": [
    "### os access/permissions:\n",
    "\n",
    "#### * access(): Verify permission modes\n",
    "\n",
    "#### * chmod(): Change permission modes\n",
    "\n",
    "#### * chown()/lchown(): Change owner and group ID/same, but do not follow links\n",
    "\n",
    "#### * umask(): Set default permission modes"
   ]
  },
  {
   "cell_type": "markdown",
   "metadata": {},
   "source": [
    "### Separation\n",
    "\n",
    "#### * basename(): Remove directory path and return leaf name\n",
    "#### * dirname(): Remove leaf name and return directory path\n",
    "#### * join(): Join separate components into single pathname\n",
    "#### * split(): Return (dirname(), basename()) tuple\n",
    "#### * splitdrive(): Return (drivename,pathname) tuple\n",
    "#### * splitext(): Return (filename, extension) tuple"
   ]
  },
  {
   "cell_type": "markdown",
   "metadata": {},
   "source": [
    "### 14. The *db* series of modules writes data in the traditional DBM format.\n",
    "#### *  but if you are not sure or do not care, the generic anydbm module detects which DBM-compatible modules are installed on your system and uses the “best” one at its disposal."
   ]
  },
  {
   "cell_type": "markdown",
   "metadata": {},
   "source": [
    "#### a. marshal and pickle provide serialization or pickling of Python objects"
   ]
  },
  {
   "cell_type": "markdown",
   "metadata": {},
   "source": [
    "#### b. *db* provide dictionary- and file-like object to allow for persistent storage of strings"
   ]
  },
  {
   "cell_type": "markdown",
   "metadata": {},
   "source": [
    "#### c. shelve provides serialization or pickling of Python objects as well as a dictionary- and file-like object to allow for persistent storage of such flattened objects"
   ]
  },
  {
   "cell_type": "markdown",
   "metadata": {},
   "source": [
    "#### d. The shelve module uses the anydbm module to find a suitable DBM module, then uses cPickle to perform the pickling process."
   ]
  },
  {
   "cell_type": "markdown",
   "metadata": {},
   "source": [
    "#### e. The two main functions in the pickle module are dump() and load(). The dump() function takes a file handle and a data object and saves the object in a format it understands to the given file."
   ]
  },
  {
   "cell_type": "markdown",
   "metadata": {},
   "source": [
    "#### f.The fileinput module iterates over a set of input files and reads their con- tents one line at a time, allowing you to iterate over each line.  File names that are not explicitly given will be assumed to be provided from the command-line."
   ]
  },
  {
   "cell_type": "markdown",
   "metadata": {},
   "source": [
    "#### g.The glob and fnmatch modules allow for file name pattern-matching in the good old-fashioned Unix shell-style, for example, using the asterisk ( * ) wildcard character for all string matches and the ( ? ) for matching single characters."
   ]
  },
  {
   "cell_type": "markdown",
   "metadata": {},
   "source": [
    "#### h.In addition, Unix-flavored systems also support the “~user” notation indicating the home directory for a specific user. "
   ]
  },
  {
   "cell_type": "markdown",
   "metadata": {},
   "source": [
    "#### i. The gzip and zlib modules provide direct file access to the zlib com- pression library. The gzip module, written on top of the zlib module, allows for standard file access, but provides for automatic gzip-compatible compression and decompression. bz2 is like gzip but for bzipped files."
   ]
  },
  {
   "cell_type": "markdown",
   "metadata": {},
   "source": [
    "#### j.The shutil module furnishes high-level file access, performing such functions as copying files, copying file permissions, and recursive directory tree copying, to name a few."
   ]
  },
  {
   "cell_type": "markdown",
   "metadata": {},
   "source": [
    "#### k.Some other Python modules that generate file-like objects include network and file socket objects (socket module), the popen*() file objects that con- nect your application to other running processes (os and popen2 modules), the fdopen() file object used in low-level file access (os module), and opening a network connection to an Internet Web server via its Uniform Resource Loca- tor (URL) address (urllib module). Please be aware that not all standard file methods may be implemented for these objects. Likewise, they may provide functionality in addition to what is available for regular files."
   ]
  },
  {
   "cell_type": "code",
   "execution_count": null,
   "metadata": {
    "collapsed": true
   },
   "outputs": [],
   "source": []
  }
 ],
 "metadata": {
  "kernelspec": {
   "display_name": "Python 3",
   "language": "python",
   "name": "python3"
  },
  "language_info": {
   "codemirror_mode": {
    "name": "ipython",
    "version": 3
   },
   "file_extension": ".py",
   "mimetype": "text/x-python",
   "name": "python",
   "nbconvert_exporter": "python",
   "pygments_lexer": "ipython3",
   "version": "3.6.3"
  }
 },
 "nbformat": 4,
 "nbformat_minor": 2
}
