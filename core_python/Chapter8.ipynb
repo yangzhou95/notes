{
 "cells": [
  {
   "cell_type": "markdown",
   "metadata": {
    "collapsed": true
   },
   "source": [
    "# <p style=\"color:red\">Chapter8</p>"
   ]
  },
  {
   "cell_type": "markdown",
   "metadata": {},
   "source": [
    "### 1. if-elif-else statement"
   ]
  },
  {
   "cell_type": "code",
   "execution_count": 3,
   "metadata": {},
   "outputs": [
    {
     "name": "stdout",
     "output_type": "stream",
     "text": [
      "larger than 0, but no larger than 2\n"
     ]
    }
   ],
   "source": [
    "a=2\n",
    "if a<0: # expression 1\n",
    "    print(\"smaller than 0\")\n",
    "elif (a>0) and (a<=2): # can have multiple elif statement\n",
    "    print(\"larger than 0, but no larger than 2\")\n",
    "else:   # can have only one else-statement\n",
    "    print(\"larger than 2\")"
   ]
  },
  {
   "cell_type": "markdown",
   "metadata": {},
   "source": [
    "### 2. the searching in a mapping relationship is faster than that in the if-elif-else and for-loop"
   ]
  },
  {
   "cell_type": "markdown",
   "metadata": {},
   "source": [
    "### 3. conditional expresions--aka \"the ternary operator\"\n",
    "\n",
    "* X if C else Y"
   ]
  },
  {
   "cell_type": "code",
   "execution_count": 5,
   "metadata": {
    "collapsed": true
   },
   "outputs": [],
   "source": [
    "x,y=4,3"
   ]
  },
  {
   "cell_type": "code",
   "execution_count": 8,
   "metadata": {},
   "outputs": [
    {
     "data": {
      "text/plain": [
       "3"
      ]
     },
     "execution_count": 8,
     "metadata": {},
     "output_type": "execute_result"
    }
   ],
   "source": [
    "if x<y:\n",
    "    smaller=x\n",
    "else:\n",
    "    smaller=y\n",
    "smaller"
   ]
  },
  {
   "cell_type": "code",
   "execution_count": 9,
   "metadata": {},
   "outputs": [
    {
     "data": {
      "text/plain": [
       "3"
      ]
     },
     "execution_count": 9,
     "metadata": {},
     "output_type": "execute_result"
    }
   ],
   "source": [
    "smaller=(x if x<y else y)\n",
    "smaller"
   ]
  },
  {
   "cell_type": "markdown",
   "metadata": {},
   "source": [
    "### 4. while-loop"
   ]
  },
  {
   "cell_type": "code",
   "execution_count": null,
   "metadata": {
    "collapsed": true
   },
   "outputs": [],
   "source": [
    "expression_is_Ture=True\n",
    "while expression_is_Ture:\n",
    "    pass # while expression is true, execute the loop"
   ]
  },
  {
   "cell_type": "markdown",
   "metadata": {},
   "source": [
    "### 5. for-statement\n",
    "\n",
    "* for-loop can iterate over sequence members, it is used in list comprehensions and generator expressions\n",
    "* it knows how to call the iterator's next() method and ends by catching *StopIteration* exceptiosn\n"
   ]
  },
  {
   "cell_type": "markdown",
   "metadata": {},
   "source": [
    "#### syntax\n",
    "for iter_var in iterable: \n",
    "\n",
    "    suite_to_repeat"
   ]
  },
  {
   "cell_type": "markdown",
   "metadata": {},
   "source": [
    "#### iterable is the variable that can iterate over its elements.\n",
    "* When iterating over a string, the iteration variable will always consist of only single characters (strings of length 1)."
   ]
  },
  {
   "cell_type": "code",
   "execution_count": null,
   "metadata": {
    "collapsed": true
   },
   "outputs": [],
   "source": [
    "nameList=[\"Tom\",\"Joe\",\"David\"] \n",
    "for name in nameList: # iterate over sequence item\n",
    "    print(name)"
   ]
  },
  {
   "cell_type": "code",
   "execution_count": null,
   "metadata": {
    "collapsed": true
   },
   "outputs": [],
   "source": [
    "nameList=[\"Tom\",\"Joe\",\"David\"]\n",
    "for index in range(len(nameList)):# iterate with index\n",
    "    print(name[index])"
   ]
  },
  {
   "cell_type": "code",
   "execution_count": null,
   "metadata": {
    "collapsed": true
   },
   "outputs": [],
   "source": [
    "nameList=[\"Tom\",\"Joe\",\"David\"] \n",
    "for index, name in enumerate(nameList):\n",
    "    print(\"%d %s\" % (index+1, name))"
   ]
  },
  {
   "cell_type": "markdown",
   "metadata": {},
   "source": [
    "### 6. the range() function.\n",
    "* The built-in function range() can turn your foreach-like for loop back\n",
    "into one that you are more familiar with, i.e., counting from 0 to 10, or counting\n",
    "from 10 to 100 in increments of 5\n",
    "### range() full syntax: range( start, end, step=1)\n",
    "* range() will then return a list where for any k, start <= k < end and k\n",
    "iterates from start to end in increments of step. step cannot be 0, or an\n",
    "error condition will occur.If step is omitted and only two arguments given, step takes a default\n",
    "value of 1."
   ]
  },
  {
   "cell_type": "code",
   "execution_count": null,
   "metadata": {
    "collapsed": true
   },
   "outputs": [],
   "source": [
    "range(2,9,2)"
   ]
  },
  {
   "cell_type": "markdown",
   "metadata": {
    "collapsed": true
   },
   "source": [
    "### 7.range() Abbreviated Syntax\n",
    "* range() also has two abbreviated syntax formats:\n",
    "   * range(end)\n",
    "   * range(start, end)"
   ]
  },
  {
   "cell_type": "markdown",
   "metadata": {},
   "source": [
    "### 8. sequence-related built-in fuction\n",
    "\n",
    "* sort()\n",
    "\n",
    "* reversed()\n",
    "\n",
    "* enumerate()\n",
    "\n",
    "* zip()\n",
    "\n",
    "### (sorted()and zip()) return a real sequence (list), while the other two\n",
    "### (reversed() and enumerate()) return iterators (sequence-like)."
   ]
  },
  {
   "cell_type": "markdown",
   "metadata": {},
   "source": [
    "### 9. The break statement in Python terminates the current loop and resumes execution at the next statement\n",
    "* just like the traditional break found in C.\n",
    "The most common use for break is when some external condition is triggered\n",
    "(usually by testing with an if statement), requiring a hasty exit from a\n",
    "loop. The break statement can be used in both while and for loops.\n",
    "\n",
    "* can be used in loops."
   ]
  },
  {
   "cell_type": "markdown",
   "metadata": {},
   "source": [
    "### 10. continue-statement\n",
    "\n",
    "* Ratherthan beginning the next iteration of the loop when a continue statement is\n",
    "encountered, a continue statement terminates or discards the remaining\n",
    "statements in the current loop iteration and goes back to the top. If we are in\n",
    "a conditional loop, the conditional expression is checked for validity before\n",
    "beginning the next iteration of the loop. Once confirmed, then the next\n",
    "iteration begins. Likewise, if the loop were iterative, a determination must be\n",
    "made as to whether there are any more arguments to iterate over. Only when\n",
    "that validation has completed successfully can we begin the next iteration.\n"
   ]
  },
  {
   "cell_type": "markdown",
   "metadata": {},
   "source": [
    "### 11. pass statement\n",
    "\n",
    "* a statement thatdoes absolutely nothing—it is a true NOP, to steal the “No OPeration” assembly\n",
    "code jargon."
   ]
  },
  {
   "cell_type": "code",
   "execution_count": null,
   "metadata": {
    "collapsed": true
   },
   "outputs": [],
   "source": [
    "def foo_func():\n",
    "    pass\n",
    "if user_choice=='doc':\n",
    "    pass"
   ]
  },
  {
   "cell_type": "code",
   "execution_count": null,
   "metadata": {
    "collapsed": true
   },
   "outputs": [],
   "source": [
    "12. else statement\n",
    "\n",
    "* How does it work? When used\n",
    "with loops, an else clause will be executed only if a loop finishes to completion,\n",
    "meaning they were not abandoned by break.\n",
    "\n",
    "* in while-loop:"
   ]
  },
  {
   "cell_type": "code",
   "execution_count": null,
   "metadata": {
    "collapsed": true
   },
   "outputs": [],
   "source": [
    "def showMaxFactor(num):\n",
    "    count = num / 2\n",
    "    while count > 1:\n",
    "        if num % count == 0:\n",
    "            print('largest factor of %d is %d' % \\\n",
    "            (num, count))\n",
    "            break\n",
    "        count -= 1\n",
    "        else:\n",
    "            print(num, \"is prime\")\n",
    "\n",
    "for eachNum in range(10, 21):\n",
    "    showMaxFactor(eachNum)"
   ]
  },
  {
   "cell_type": "markdown",
   "metadata": {},
   "source": [
    "### 12. for-else\n",
    "\n",
    "* Likewise, a for loop can have a post-processing else. It operates exactly\n",
    "the same way as for a while loop. As long as the for loop exits normally (not\n",
    "via break), the else clause will be executed"
   ]
  },
  {
   "cell_type": "markdown",
   "metadata": {},
   "source": [
    "### 13. iterator and the iter() function\n",
    "\n",
    "* Basically, instead of an index to count sequentially, an iterator is any item\n",
    "that has a next() method.\n",
    "\n",
    "* When the next item is desired, either you or a\n",
    "looping mechanism like for will call the iterators next()method to get the next value. Once the items have been exhausted, a StopIteration\n",
    "exception is raised, not to indicate an error, but to let folks know that we\n",
    "are done.\n",
    "\n",
    "### * you cannot move backward, go back to the beginning, or copy an iterator.\n",
    "\n",
    "### * If you want to iterate over the same objects again (or simultaneously), you have to create another iterator object.\n",
    "\n",
    "### * iter(): create a iterator.\n",
    "    * iter(iterable) -> iterator\n",
    "    * iter(callable, sentinel) -> iterator\n",
    "    \n",
    "    Get an iterator from an object.  In the first form, the argument must\n",
    "    supply its own iterator, or be a sequence.\n",
    "    In the second form, the callable is called until it returns the sentinel.\n",
    "\n",
    "\n",
    "### * reversed() BIF that returns an iterator that traverses an iterable in reverse order. \n",
    "\n",
    "### * enumerate() BIF also returns an iterator. \n",
    "\n",
    "### * any()will return True if any items traversed across an iterator have a Boolean True value, \n",
    "\n",
    "### * all()  return True if all items traversed across an iterator have a Boolean True value.\n",
    "\n",
    "* because the for loop itself calls\n",
    "the iterator’s next() method"
   ]
  },
  {
   "cell_type": "code",
   "execution_count": 2,
   "metadata": {
    "collapsed": true
   },
   "outputs": [],
   "source": [
    "myTuple=(123,'w35')"
   ]
  },
  {
   "cell_type": "code",
   "execution_count": 6,
   "metadata": {
    "collapsed": true
   },
   "outputs": [],
   "source": [
    "i=iter(myTuple)"
   ]
  },
  {
   "cell_type": "code",
   "execution_count": 9,
   "metadata": {},
   "outputs": [
    {
     "data": {
      "text/plain": [
       "'w35'"
      ]
     },
     "execution_count": 9,
     "metadata": {},
     "output_type": "execute_result"
    }
   ],
   "source": [
    "i.__next__() # next() was replaced by __next__()"
   ]
  },
  {
   "cell_type": "code",
   "execution_count": 12,
   "metadata": {},
   "outputs": [
    {
     "name": "stdout",
     "output_type": "stream",
     "text": [
      "123\n",
      "w35\n"
     ]
    }
   ],
   "source": [
    "fetch=iter(myTuple)\n",
    "while True:\n",
    "    try:\n",
    "        i=fetch.__next__()\n",
    "        print(i)\n",
    "    except StopIteration:\n",
    "        break"
   ]
  },
  {
   "cell_type": "markdown",
   "metadata": {},
   "source": [
    "### 14. iterate dictionary\n",
    "\n",
    "* myDict.iterkeys()(iterate through the keys),\n",
    "\n",
    "* myDict.itervalues() (iterate through the values), and \n",
    "\n",
    "* myDict.iteritems()(iterate through key/value pairs).\n",
    "\n",
    "* Note that the in operator has been\n",
    "modified to check a dictionary’s keys. This means the Boolean expression\n",
    "myDict.has_key(anyKey) can be simplified as anyKey in myDict."
   ]
  },
  {
   "cell_type": "code",
   "execution_count": null,
   "metadata": {
    "collapsed": true
   },
   "outputs": [],
   "source": [
    "mydict={'k':'v','aa':'aa'}"
   ]
  },
  {
   "cell_type": "code",
   "execution_count": 16,
   "metadata": {},
   "outputs": [
    {
     "name": "stdout",
     "output_type": "stream",
     "text": [
      "v\n",
      "aa\n"
     ]
    }
   ],
   "source": [
    "mydict={'k':'v','aa':'aa'}\n",
    "for key in mydict:\n",
    "    print(mydict[key])"
   ]
  },
  {
   "cell_type": "markdown",
   "metadata": {},
   "source": [
    "### 15. iterate files:\n",
    "* File objects produce an iterator that calls the readline() method. Thus,\n",
    "they loop through all lines of a text file, allowing the programmer to replace\n",
    "essentially for eachLine in myFile.readlines() with the more simplistic\n",
    "for eachLine in myFile:"
   ]
  },
  {
   "cell_type": "code",
   "execution_count": 18,
   "metadata": {},
   "outputs": [
    {
     "ename": "FileNotFoundError",
     "evalue": "[Errno 2] No such file or directory: 'config.txt'",
     "output_type": "error",
     "traceback": [
      "\u001b[0;31m---------------------------------------------------------------------------\u001b[0m",
      "\u001b[0;31mFileNotFoundError\u001b[0m                         Traceback (most recent call last)",
      "\u001b[0;32m<ipython-input-18-4c68bedebc11>\u001b[0m in \u001b[0;36m<module>\u001b[0;34m()\u001b[0m\n\u001b[0;32m----> 1\u001b[0;31m \u001b[0mmyFile\u001b[0m\u001b[0;34m=\u001b[0m\u001b[0mopen\u001b[0m\u001b[0;34m(\u001b[0m\u001b[0;34m'config.txt'\u001b[0m\u001b[0;34m)\u001b[0m\u001b[0;34m\u001b[0m\u001b[0m\n\u001b[0m\u001b[1;32m      2\u001b[0m \u001b[0;32mfor\u001b[0m \u001b[0meachLine\u001b[0m \u001b[0;32min\u001b[0m \u001b[0mmyFile\u001b[0m\u001b[0;34m:\u001b[0m\u001b[0;34m\u001b[0m\u001b[0m\n\u001b[1;32m      3\u001b[0m     \u001b[0mprint\u001b[0m\u001b[0;34m(\u001b[0m\u001b[0meachLine\u001b[0m\u001b[0;34m)\u001b[0m\u001b[0;34m\u001b[0m\u001b[0m\n",
      "\u001b[0;31mFileNotFoundError\u001b[0m: [Errno 2] No such file or directory: 'config.txt'"
     ]
    }
   ],
   "source": [
    "myFile=open('config.txt')\n",
    "for eachLine in myFile:\n",
    "    print(eachLine)"
   ]
  },
  {
   "cell_type": "markdown",
   "metadata": {},
   "source": [
    "### 16. Mutable objects and iterators\n"
   ]
  },
  {
   "cell_type": "markdown",
   "metadata": {},
   "source": [
    "### interfering with mutable objects while you are iterating them is a bad idea, no matter it is list, tuple or dictionary"
   ]
  },
  {
   "cell_type": "code",
   "execution_count": 25,
   "metadata": {},
   "outputs": [
    {
     "name": "stdout",
     "output_type": "stream",
     "text": [
      "http1\n",
      "http3\n"
     ]
    }
   ],
   "source": [
    "allURLs=[\"http1\",\"http2\",\"http3\"]\n",
    "for eachURL in allURLs:\n",
    "    if not eachURL.startswith('http1'):\n",
    "        allURLs.remove(eachURL)\n",
    "for eachURL in allURLs:\n",
    "    print(eachURL)"
   ]
  },
  {
   "cell_type": "markdown",
   "metadata": {},
   "source": [
    "### How to create iterator? call iter() method"
   ]
  },
  {
   "cell_type": "markdown",
   "metadata": {},
   "source": [
    "### iter(obj): \n",
    "### iter( func, sentinel): \n",
    "\n",
    "### if you call iter() with one object, it will check if it is just a sequence, for which the solution is simple.It will just iterate through it by (integer) index from 0 to the end. Another way to create an iterator is with a class. As we will see in Chapter 13, a class that implements the __iter__() and next() methods can be used as an iterator.\n",
    "\n",
    "### If you call iter() with two arguments, it will repeatedly call func to obtain the next value of iteration until that value is equal to sentinel"
   ]
  },
  {
   "cell_type": "markdown",
   "metadata": {},
   "source": [
    "### 17. list comprehensions"
   ]
  },
  {
   "cell_type": "markdown",
   "metadata": {},
   "source": [
    "### [expr for iter_var in iterable]\n",
    "\n",
    "### The core of this statement is the for loop, which iterates over each item of iterable. The prefixed expr is applied for each member of the sequence, and the resulting values comprise the list that the expression yields. The iteration variable need not be part of the expression."
   ]
  },
  {
   "cell_type": "code",
   "execution_count": 6,
   "metadata": {},
   "outputs": [],
   "source": [
    "aa=map(lambda x: x*2, range(6)) # three function calls: map(),lambda(), range(), bad"
   ]
  },
  {
   "cell_type": "code",
   "execution_count": 4,
   "metadata": {},
   "outputs": [
    {
     "name": "stdout",
     "output_type": "stream",
     "text": [
      "<map object at 0x7f339c86c518>\n"
     ]
    }
   ],
   "source": [
    "print(aa)"
   ]
  },
  {
   "cell_type": "code",
   "execution_count": 9,
   "metadata": {},
   "outputs": [
    {
     "data": {
      "text/plain": [
       "[0, 1, 4, 9, 16, 25]"
      ]
     },
     "execution_count": 9,
     "metadata": {},
     "output_type": "execute_result"
    }
   ],
   "source": [
    "[x**2 for x in range(6)] # only one function call: range(). better than the map() function"
   ]
  },
  {
   "cell_type": "markdown",
   "metadata": {},
   "source": [
    "### List comprehensions also support an extended syntax with the if statement:\n",
    "\n",
    "### [expr for iter_var in iterable if cond_expr]"
   ]
  },
  {
   "cell_type": "code",
   "execution_count": 11,
   "metadata": {},
   "outputs": [
    {
     "data": {
      "text/plain": [
       "[2, 6, 10]"
      ]
     },
     "execution_count": 11,
     "metadata": {},
     "output_type": "execute_result"
    }
   ],
   "source": [
    "[ x*2 for x in range(6) if x %2] # better than filter() + lambda()"
   ]
  },
  {
   "cell_type": "code",
   "execution_count": 13,
   "metadata": {},
   "outputs": [
    {
     "data": {
      "text/plain": [
       "[(0, 0),\n",
       " (0, 1),\n",
       " (0, 2),\n",
       " (0, 3),\n",
       " (0, 4),\n",
       " (1, 0),\n",
       " (1, 1),\n",
       " (1, 2),\n",
       " (1, 3),\n",
       " (1, 4),\n",
       " (2, 0),\n",
       " (2, 1),\n",
       " (2, 2),\n",
       " (2, 3),\n",
       " (2, 4)]"
      ]
     },
     "execution_count": 13,
     "metadata": {},
     "output_type": "execute_result"
    }
   ],
   "source": [
    "[(x,y) for x in range(3) for y in range(5)] # two-layer loop"
   ]
  },
  {
   "cell_type": "code",
   "execution_count": 17,
   "metadata": {},
   "outputs": [
    {
     "data": {
      "text/plain": [
       "['this', 'is', 'an', 'apple', 'that', 'is', 'a', 'pear']"
      ]
     },
     "execution_count": 17,
     "metadata": {},
     "output_type": "execute_result"
    }
   ],
   "source": [
    "myStr=['this is an apple','that is a pear']\n",
    "[word for element in myStr for word in element.split()] \n",
    "# this first loop is the outter loop and the second loop is the inner loop"
   ]
  },
  {
   "cell_type": "code",
   "execution_count": 18,
   "metadata": {},
   "outputs": [
    {
     "ename": "FileNotFoundError",
     "evalue": "[Errno 2] No such file or directory: 'haha.txt'",
     "output_type": "error",
     "traceback": [
      "\u001b[0;31m---------------------------------------------------------------------------\u001b[0m",
      "\u001b[0;31mFileNotFoundError\u001b[0m                         Traceback (most recent call last)",
      "\u001b[0;32m<ipython-input-18-6345e2ed875d>\u001b[0m in \u001b[0;36m<module>\u001b[0;34m()\u001b[0m\n\u001b[1;32m      1\u001b[0m \u001b[0;32mimport\u001b[0m \u001b[0mos\u001b[0m\u001b[0;34m\u001b[0m\u001b[0m\n\u001b[0;32m----> 2\u001b[0;31m \u001b[0mos\u001b[0m\u001b[0;34m.\u001b[0m\u001b[0mstat\u001b[0m\u001b[0;34m(\u001b[0m\u001b[0;34m'haha.txt'\u001b[0m\u001b[0;34m)\u001b[0m\u001b[0;34m.\u001b[0m\u001b[0mst_size\u001b[0m  \u001b[0;31m# get a quick total file size\u001b[0m\u001b[0;34m\u001b[0m\u001b[0m\n\u001b[0m",
      "\u001b[0;31mFileNotFoundError\u001b[0m: [Errno 2] No such file or directory: 'haha.txt'"
     ]
    }
   ],
   "source": [
    "import os\n",
    "os.stat('haha.txt').st_size  # get a quick total file size"
   ]
  },
  {
   "cell_type": "markdown",
   "metadata": {},
   "source": [
    "### list comps support multiple nested for loops and more than one if clause."
   ]
  },
  {
   "cell_type": "markdown",
   "metadata": {},
   "source": [
    "### 18. weakness of list comprehensions: all of the data have to be made available in order to create the entire list. This can have negative consequences if an iterator with a large dataset is involved."
   ]
  },
  {
   "cell_type": "markdown",
   "metadata": {},
   "source": [
    "### generator expressions are similar to list comprehensions in that the basic syntax is nearly identical; however, instead of building a list with values, they return a generator that “yields” after processing each item."
   ]
  },
  {
   "cell_type": "markdown",
   "metadata": {},
   "source": [
    "### LIST COMPREHENSION: [expr for iter_var in iterable if cond_expr]\n",
    "### GENERATOR EXPRESSION: (expr for iter_var in iterable if cond_expr)------> memory efficient"
   ]
  },
  {
   "cell_type": "code",
   "execution_count": 20,
   "metadata": {},
   "outputs": [
    {
     "data": {
      "text/plain": [
       "24"
      ]
     },
     "execution_count": 20,
     "metadata": {},
     "output_type": "execute_result"
    }
   ],
   "source": [
    "sum(len(word) for element in myStr for word in element.split())\n",
    "# Instead of creating that large list, we can use a generator expression to perform\n",
    "# the summing. Instead of building up this long list, it will calculate individual\n",
    "# lengths and feed it to the sum() function, which takes not just lists but also\n",
    "# iterables like generator expressions."
   ]
  },
  {
   "cell_type": "markdown",
   "metadata": {},
   "source": [
    "### 19.When iterators came around, and files became their own iterators, readlines() no longer needed to be called."
   ]
  },
  {
   "cell_type": "markdown",
   "metadata": {},
   "source": [
    "### the list comprehension itself needs all lines of the file read into memory in order to generate the list. Let us simplify our code even more: we will replace the list comp with a generator expression"
   ]
  },
  {
   "cell_type": "code",
   "execution_count": null,
   "metadata": {
    "collapsed": true
   },
   "outputs": [],
   "source": []
  }
 ],
 "metadata": {
  "kernelspec": {
   "display_name": "Python 2",
   "language": "python",
   "name": "python2"
  },
  "language_info": {
   "codemirror_mode": {
    "name": "ipython",
    "version": 3
   },
   "file_extension": ".py",
   "mimetype": "text/x-python",
   "name": "python",
   "nbconvert_exporter": "python",
   "pygments_lexer": "ipython3",
   "version": "3.6.3"
  }
 },
 "nbformat": 4,
 "nbformat_minor": 1
}
