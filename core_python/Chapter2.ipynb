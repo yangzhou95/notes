{
 "cells": [
  {
   "cell_type": "markdown",
   "metadata": {},
   "source": [
    "# <p style=\"color:red\">Chapter 2</p>"
   ]
  },
  {
   "cell_type": "markdown",
   "metadata": {},
   "source": [
    "## 1. str() vs. repr()\n",
    "print function call str(), while the interactive interpreter call repr()"
   ]
  },
  {
   "cell_type": "code",
   "execution_count": 1,
   "metadata": {},
   "outputs": [
    {
     "name": "stdout",
     "output_type": "stream",
     "text": [
      " u are right \n",
      " she is wrong\n"
     ]
    }
   ],
   "source": [
    "str=\" u are right \\n she is wrong\"\n",
    "print(str)"
   ]
  },
  {
   "cell_type": "code",
   "execution_count": 2,
   "metadata": {},
   "outputs": [
    {
     "data": {
      "text/plain": [
       "' u are right \\n she is wrong'"
      ]
     },
     "execution_count": 2,
     "metadata": {},
     "output_type": "execute_result"
    }
   ],
   "source": [
    "str"
   ]
  },
  {
   "cell_type": "markdown",
   "metadata": {},
   "source": [
    "## 2. BIF: built-in function, dir(__builtins__): list all the built-in objects"
   ]
  },
  {
   "cell_type": "code",
   "execution_count": 5,
   "metadata": {},
   "outputs": [],
   "source": [
    "import sys\n"
   ]
  },
  {
   "cell_type": "code",
   "execution_count": 8,
   "metadata": {},
   "outputs": [
    {
     "name": "stdout",
     "output_type": "stream",
     "text": [
      "python in  a string\n"
     ]
    }
   ],
   "source": [
    "\n",
    "print(\"%s in  a string\" %(\"python\"))"
   ]
  },
  {
   "cell_type": "markdown",
   "metadata": {},
   "source": [
    "## 3. input()\n",
    "read a string from the standard input, and automatically delete the trailing carriage return and new line.\n",
    "EOF: end of file"
   ]
  },
  {
   "cell_type": "markdown",
   "metadata": {},
   "source": [
    "## 4. # is used for python comment\n",
    "doc string can be accessed at runtime"
   ]
  },
  {
   "cell_type": "markdown",
   "metadata": {},
   "source": [
    "## 5. operator\n",
    "<> was obsoleted, better to use !=\n",
    "3<4<5 stands for (3<4) and (4<5)\n"
   ]
  },
  {
   "cell_type": "markdown",
   "metadata": {},
   "source": [
    "## 6. Python is case sensitive and it is dynamic programming language, namely, you don't need to declare the variable. The variable type is decided when it is assigned a value"
   ]
  },
  {
   "cell_type": "markdown",
   "metadata": {},
   "source": [
    "## 7. python support self-increasement\n",
    "n *=2;\n",
    "not n++ or n--\n",
    "--n=-(-n)=n\n",
    "\n"
   ]
  },
  {
   "cell_type": "markdown",
   "metadata": {},
   "source": [
    "## 8. Definition of a string: all the characters between a pair of quotation mark\n",
    "\n",
    "' this is a string'\n",
    "\"this is a string\"\n",
    "'''this is a string'''\n",
    "a string can be accessed by indexing with [] or slicing with [:]\n",
    "+: used for connecting two string\n",
    "*: used for replicate string\n"
   ]
  },
  {
   "cell_type": "code",
   "execution_count": null,
   "metadata": {
    "collapsed": true
   },
   "outputs": [],
   "source": [
    "str=\" This is a string\"\n",
    "str[2:5]# not including the str[5]\n"
   ]
  },
  {
   "cell_type": "markdown",
   "metadata": {},
   "source": [
    "## 9. if ...elif....else...\n",
    "while expression:\n",
    "    #you don't need to put the expression into a pair of bracket"
   ]
  },
  {
   "cell_type": "markdown",
   "metadata": {},
   "source": [
    "## 10 list, tuple and dictionary\n",
    "list:[]\n",
    "tuple:()\n",
    "dictionary:()"
   ]
  },
  {
   "cell_type": "markdown",
   "metadata": {},
   "source": [
    "## 11. for loop\n",
    "for item in iterable:\n",
    "    # iterable can be list, tuple or dictionary"
   ]
  },
  {
   "cell_type": "markdown",
   "metadata": {},
   "source": [
    "## 12. print() will add a line break at the end of each line, you can suppress it by using the trailing \",\"\n",
    "such as print(x),\n",
    "print: add a newline to the output\n",
    "print(x),# print with trailing \",\" will add a space between elements"
   ]
  },
  {
   "cell_type": "markdown",
   "metadata": {},
   "source": [
    "## 13. range\n",
    "range(n)== range(0,n)\n",
    "range(1,n)==0,1,2...(n-2),(n-1)\n"
   ]
  },
  {
   "cell_type": "markdown",
   "metadata": {},
   "source": [
    "## 14. list comprehension\n",
    "sqd=[x**2 for x in range(8) if not x%2]\n"
   ]
  },
  {
   "cell_type": "markdown",
   "metadata": {},
   "source": [
    "## 15. file\n",
    "handle=open(fileName, access_mode='r',buffering=-1,encoding=None,errors=None,newline=None,closefd=True,openr=None) #return a file object\n",
    "\n",
    "*access_mode:\n",
    "\n",
    "r: read, default\n",
    "\n",
    "w:write\n",
    "\n",
    "+: r & W\n",
    "\n",
    "b: binary\n",
    "\n",
    "a:append\n",
    "\n",
    "t: text\n",
    "\n",
    "u: unicode\n",
    "\n",
    "x: new\n",
    "\n",
    "attribute=data_value + method or function\n",
    "\n",
    "how to access attribute: object.attribute\n",
    "\n",
    "### read(): read the string\n",
    "\n",
    "### write(): write a string into output, it won't add the line break at the end\n",
    "\n",
    "### fobj.readlines(): read all the lines and return a list of lines from the stream\n",
    "\n",
    "### fobj.readline(0: read one line at a time\n",
    " \n",
    "  "
   ]
  },
  {
   "cell_type": "markdown",
   "metadata": {},
   "source": [
    "## 16. fobj.tell(), fobj.seek(offset [,from])\n",
    "\n",
    "### fobj.tell(): return the position of file pointer, namely, the position where the next read will happen. Actually, the position is the # of bytes from the begining.\n",
    "\n",
    "### fobj.seek(offset [,from]): change the position of file pointer, offset: how many bytes the file pointer will move, from: the start position where the movement begins. 0: the begining of the file; 1: the current position; 2: the end of the file. Offset specify the number of bytes from 'from'"
   ]
  },
  {
   "cell_type": "markdown",
   "metadata": {},
   "source": [
    "## 17. fobj.read(N), read N bytes, if not specify, it will read all of it."
   ]
  },
  {
   "cell_type": "markdown",
   "metadata": {},
   "source": [
    "## 18. how to call a function.\n",
    "(): used to call a function, such as myFunc(), the '()' can not be omitted.\n",
    "\n",
    "def myFunc(default_param=parameter):# set the default parameters\n",
    "    \n",
    "    pass\n",
    "\n",
    "If there is no return in the function, then it will return None object."
   ]
  },
  {
   "cell_type": "markdown",
   "metadata": {},
   "source": [
    "## 19. Almost all the standard data types support '+' operation.\n",
    "\n",
    "str+str: concatenate str\n",
    "\n",
    "list+list:\n",
    "\n",
    "tuple+tuple\n",
    "\n",
    "dict+dict\n"
   ]
  },
  {
   "cell_type": "markdown",
   "metadata": {},
   "source": [
    "## 20. doc string:\n",
    "\n",
    "the first unassigned string after the definiton of a class, method or function"
   ]
  },
  {
   "cell_type": "markdown",
   "metadata": {},
   "source": [
    "## 21. class definition\n",
    "\n",
    "class className(base_class[es]):\n",
    "  \n",
    "      '''doc \n",
    "   \n",
    "      string'''\n",
    "      method_declarations\n",
    "      \n",
    "If no base_class is specified, it will use 'object' as the base class\n",
    "      "
   ]
  },
  {
   "cell_type": "markdown",
   "metadata": {},
   "source": [
    "## 22. special methods: \\_\\_methodName\\_\\_()\n",
    "\n",
    "__init__(): after an instance of a class was created, the __init__() will be called. It's kind of like constructor,  but it's not a constructor because it won't instantiate the instance. It's the first method that a instance calls after this intance was created.\n",
    "Specifically, it is used to initalize an instance.\n",
    "\n",
    "The default __init__() does nothing.\n",
    "\n",
    "\n",
    "### \"self\" is the first argument for every method.\n",
    "\n",
    "def methodName(self,x):\n",
    "    \n",
    "    pass # By default, the __init__() does nothing \n",
    "\n",
    "self==the instance itself"
   ]
  },
  {
   "cell_type": "markdown",
   "metadata": {},
   "source": [
    "## 23. self.__class__: self is an instance\n",
    "\n",
    "self.__class__.name: the name of class that instantiate the instance self"
   ]
  },
  {
   "cell_type": "markdown",
   "metadata": {},
   "source": [
    "## 24. mudule name: the name of a file except the suffix\n",
    "\n",
    "E.g.myModule.py, so the module name is 'myModule‘\n",
    "\n",
    "### when a module was imported, all of its attribute can be accessed by 'module.attribute'"
   ]
  },
  {
   "cell_type": "markdown",
   "metadata": {},
   "source": [
    "## 25. some functions\n",
    "\n",
    "dir(obj): show the attributes of the obj. If obj is not specified, it will show all the global variables\n",
    "\n",
    "help(obj):\n",
    "\n",
    "int(obj):\n",
    "\n",
    "len(obj):\n",
    "\n",
    "open(fileName,mode):\n",
    "\n",
    "range([start,] stop [,step]): it ends with value == stop -1, by default, start==0, step==1\n",
    "\n",
    "raw_input(str): str is prompt\n",
    "\n",
    "str(obj): convert an obj to string\n",
    "\n",
    "type(obj): return the type of an obj\n"
   ]
  },
  {
   "cell_type": "code",
   "execution_count": null,
   "metadata": {
    "collapsed": true
   },
   "outputs": [],
   "source": [
    "\n"
   ]
  }
 ],
 "metadata": {
  "kernelspec": {
   "display_name": "Python 3",
   "language": "python",
   "name": "python3"
  },
  "language_info": {
   "codemirror_mode": {
    "name": "ipython",
    "version": 3
   },
   "file_extension": ".py",
   "mimetype": "text/x-python",
   "name": "python",
   "nbconvert_exporter": "python",
   "pygments_lexer": "ipython3",
   "version": "3.7.9"
  }
 },
 "nbformat": 4,
 "nbformat_minor": 2
}
