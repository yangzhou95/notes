{
 "cells": [
  {
   "cell_type": "markdown",
   "metadata": {},
   "source": [
    "# <p style=\"color:red\">Chapter 15 regular expression</p>"
   ]
  },
  {
   "cell_type": "markdown",
   "metadata": {
    "collapsed": true
   },
   "source": [
    "* we will say “matching,” referring to the term pattern-matching. \n",
    "\n",
    "* searching, i.e., looking for a pattern match in any part of a string, and matching, i.e., attempting to match a pattern to an entire string (starting from the beginning). Searches are accomplished using the search() function or method, and matching is done with the match() function or method."
   ]
  },
  {
   "cell_type": "markdown",
   "metadata": {},
   "source": [
    "### 1.REs are strings containing text and special charac- ters that describe a pattern with which to recognize multiple strings"
   ]
  },
  {
   "cell_type": "markdown",
   "metadata": {},
   "source": [
    "* The power of regular expres- sions comes in when special characters are used to define character sets, sub- group matching, and pattern repetition. It is these special symbols that allow an RE to match a set of strings rather than a single one."
   ]
  },
  {
   "cell_type": "markdown",
   "metadata": {},
   "source": [
    "RE symbols:\n",
    "\n",
    "* literal: Match literal string value literal, foo\n",
    "* re1|re2: Match regular expressions re1 or re2. foo|bar\n",
    "* .: Match any character (except NEWLINE), b.b\n",
    "* ^: Match start of string, ^Dear\n",
    "* \\$: Match end of string, /bin/*sh$\n",
    "* \\*: Match 0 or more occurrences of preceding RE, [A-Za-z0-9]*\n",
    "* +: Match 1 or more occurrences of preceding RE, [a-z]+\\.com\n",
    "* ?: Match 0 or 1 occurrence(s) of preceding RE, goo?\n",
    "* {N}: Match N occurrences of preceding RE, [0-9]{3}\n",
    "* {M,N}: Match from M to N occurrences of preceding RE, [0-9]{5,9}\n",
    "* [...]: Match any single character from character class, [aeiou]\n",
    "* [..x-y..]: Match any single character in the range from x to y, [0-9], [A-Za-z]\n",
    "* [^...]: Do not match any character from character class, including any ranges, if present, [^aeiou],[^A-Za-z0-9\\_]\n",
    "* (\\*|+|?|{})?: Apply “non-greedy” versions of above occurrence/repetition symbols ( \\*, +, ?, {}), .\\*?[a-z]\n",
    "* (...): Match enclosed RE and save as subgroup, ([0-9]{3})?,f(oo|u)bar\n",
    "* \\d: Match any decimal digit, same as [0-9] (\\D is inverse of \\d: do not match any numeric digit), data\\d+.txt\n",
    "* \\w: Match any alphanumeric character, same as [A-Za-z0-9_] (\\W is inverse of \\w), [A-Za-z_]\\w+\n",
    "* \\s: Match any whitespace character, same as [ \\n\\t\\r\\v\\f] (\\S is inverse of \\s), of\\sthe\n",
    "* \\b: Match any word boundary (\\B is inverse of \\b), \\bThe\\b\n",
    "* \\nn: Match saved subgroup nn (see (...) above), price: \\16\n",
    "* \\c: Match any special character c verbatim (i.e., with- out its special meaning, literal), \\., \\\\, \\*\n",
    "* \\A(\\Z): Match start (end) of string (also see ^ and \\$ above), \\ADear\n"
   ]
  },
  {
   "cell_type": "markdown",
   "metadata": {},
   "source": [
    "### 2. dot\n",
    "\n",
    "* The dot or period ( . ) symbol matches any single character except for NEW- LINE (Python REs have a compilation flag [S or DOTALL], which can override this to include NEWLINEs.). Whether letter, number, whitespace not including “\\n,” printable, non-printable, or a symbol, the dot can match them all.\n",
    "* match dot (.): \\\\."
   ]
  },
  {
   "cell_type": "markdown",
   "metadata": {},
   "source": [
    "### 3. word boundary:\\\\b\n",
    "    \n",
    "* The \\b and \\B special characters pertain to word boundary matches. The difference between them is that \\b will match a pattern to a word boundary, meaning that a pattern must be at the beginning of a word, whether there are any characters in front of it (word in the middle of a string) or not (word at the beginning of a line). And likewise, \\B will match a pattern only if it appears starting in the middle of a word (i.e., not at a word boundary).\n",
    "\n",
    "RE Pattern     Strings Matched\n",
    "* the: Any string containing the\n",
    "* \\bthe: Any word that starts with the\n",
    "* \\bthe\\b: Matches only the word the\n",
    "* \\Bthe: Any string that contains but does not begin with the"
   ]
  },
  {
   "cell_type": "markdown",
   "metadata": {},
   "source": [
    "### 4: Creating Character Classes ( [ ] )\n",
    "* if we wanted to match the string with the pattern “ab” followed by “cd,” we cannot use the brackets because they work only for single characters. In this case, the only solution is “ab|cd,” similar to the “r2d2/c3po” problem just mentioned."
   ]
  },
  {
   "cell_type": "markdown",
   "metadata": {},
   "source": [
    "### 5. Designating groups with parentheses(()):\n",
    "\n",
    "   * extract any specific strings or substrings that were part of a successful match. To accomplish this, surround any RE with a pair of parentheses. "
   ]
  },
  {
   "cell_type": "markdown",
   "metadata": {},
   "source": [
    "### 6. RE module Core functions:\n",
    "\n",
    "* compile(pattern,flags=0): Compile RE pattern with any optional flags and return a regex object."
   ]
  },
  {
   "cell_type": "markdown",
   "metadata": {},
   "source": [
    "### 6. RE module functions and regex object methods:\n",
    "* match(pattern, string,flags=0): Attempt to match RE pattern to string with optional flags; return match object on success,None on failure.\n",
    "\n",
    "* search(pattern, string,flags=0): Search for first occurrence of RE pattern within string with optional flags;return match object on success, None on failure.\n",
    "\n",
    "* findall(pattern, string[,flags]): Look for all (non-overlapping) occurrences of pattern in string; return a list of matches\n",
    "\n",
    "* finditer(pattern, string[, flags]): Same as findall() except returns an iterator instead of a list; for each match, the iterator returns a match object.\n",
    "\n",
    "* split(pattern, string, max=0): Split string into a list according to RE pattern delimiter and return list of successful matches, splitting at most max times (split all occurrences is the default).\n",
    "\n",
    "* sub(pattern, repl, string, max=0): Replace all occurrences of the RE pattern in string with repl, substituting all occurrences unless max pro- vided (also see subn() which, in addition, returns the number of substitutions made) "
   ]
  },
  {
   "cell_type": "markdown",
   "metadata": {},
   "source": [
    "### 6. Match object methods:\n",
    "\n",
    "* group(num=0): Return entire match (or specific subgroup num)\n",
    "* groups(): Return all matching subgroups in a tuple (empty if there weren’t any)"
   ]
  },
  {
   "cell_type": "markdown",
   "metadata": {},
   "source": [
    "* Python code is eventually compiled into bytecode, which is then executed by the interpreter.\n",
    "* calling eval() or exec with a code object rather than a string provides a significant performance improvement due to the fact that the compilation process does not have to be performed.\n"
   ]
  },
  {
   "cell_type": "markdown",
   "metadata": {},
   "source": [
    "### 7. RE compilation:\n",
    "\n",
    "* regular expression patterns must be compiled into regex objects before any pattern matching can occur.\n",
    "\n",
    "* For REs, which are compared many times during the course of execution, we highly recommend using precompilation first because, again, REs have to be compiled anyway, so doing it ahead of time is prudent for performance reasons. re.compile() provides this functionality."
   ]
  },
  {
   "cell_type": "markdown",
   "metadata": {},
   "source": [
    "### 8. RE functions and regex objects methods:\n",
    "\n",
    "    \n",
    "* Almost all of the re module functions we will be describing shortly are available as methods for regex objects. Remember, even with our recommendation, precompilation is not required. If you compile, you will use methods; if you don’t, you will just use functions. The good news is that either way, the names are the same whether a function or a method.\n",
    "\n",
    "* Optional flags may be given as arguments for specialized compilation. These flags allow for case-insensitive matching, using system locale settings for matching alphanumeric characters, etc.\n",
    "    * re.LOCALE: Make \\w, \\W, \\b, \\B, \\s and \\S dependent on the current locale.\n",
    "    * re.DOTALL: Make the '.' special character match any character at all, including a newline; without this flag, '.' will match anything except a newline.\n",
    "\n",
    "* If you want to use these flags with the methods, they must already be integrated into the compiled regex objects."
   ]
  },
  {
   "cell_type": "markdown",
   "metadata": {},
   "source": [
    "### 9.Match objects and group(), groups() methods\n",
    "\n",
    "* There is another object type in addition to the regex object when dealing with regular expressions, the match object. These are the objects returned on suc- cessful calls to match() or search(). Match objects have two primary methods, group() and groups().\n",
    "\n",
    "* group() will either return the entire match, or a specific subgroup, if requested. groups() will simply return a tuple consisting of only/all the subgroups. If there are no subgroups requested, then groups() returns an empty tuple while group() still returns the entire match."
   ]
  },
  {
   "cell_type": "markdown",
   "metadata": {},
   "source": [
    "### 10. match(): Matching Strings\n",
    "\n",
    "* The match() function attempts to match the pattern to the string, starting at the beginning. If the match is successful, a match object is returned, but on failure, None is returned.\n",
    "\n",
    "* re.match('foo', 'seafood')-->no match, match() attempts to match the pattern to the string from the beginning, i.e., the “f” in the pattern is matched against the “s” in the string, which fails immediately\n",
    "\n",
    "* The group() method of a match object can be used to show the successful match.\n"
   ]
  },
  {
   "cell_type": "code",
   "execution_count": 7,
   "metadata": {
    "collapsed": true
   },
   "outputs": [],
   "source": [
    "import re"
   ]
  },
  {
   "cell_type": "code",
   "execution_count": 8,
   "metadata": {},
   "outputs": [
    {
     "name": "stdout",
     "output_type": "stream",
     "text": [
      "foo\n"
     ]
    }
   ],
   "source": [
    "m=re.match('foo','foo')\n",
    "if m is not None:\n",
    "    print(m.group())"
   ]
  },
  {
   "cell_type": "code",
   "execution_count": 9,
   "metadata": {},
   "outputs": [
    {
     "data": {
      "text/plain": [
       "'foo'"
      ]
     },
     "execution_count": 9,
     "metadata": {},
     "output_type": "execute_result"
    }
   ],
   "source": [
    "# We can even sometimes bypass saving the result \n",
    "# altogether, taking advan- tage of Python’s \n",
    "# object-oriented nature:\n",
    "re.match('foo', 'food on the table').group()\n"
   ]
  },
  {
   "cell_type": "markdown",
   "metadata": {},
   "source": [
    "### 11. Search(): Looking for a Pattern within a String \n",
    "\n",
    "* It works exactly in the same way as match except that it searches for the first occurrence of the given RE pattern anywhere with its string argu- ment. Again, a match object is returned on success and None otherwise.\n",
    "\n",
    "\n",
    "* search() looks for the first occurrence of the pattern within the string. search() searches strictly from left to right."
   ]
  },
  {
   "cell_type": "code",
   "execution_count": 11,
   "metadata": {},
   "outputs": [],
   "source": [
    "m=re.match('foo','seafood') # no match\n",
    "if m is not None:\n",
    "    print(m.group())"
   ]
  },
  {
   "cell_type": "code",
   "execution_count": 12,
   "metadata": {},
   "outputs": [
    {
     "name": "stdout",
     "output_type": "stream",
     "text": [
      "foo\n"
     ]
    }
   ],
   "source": [
    "m=re.search('foo','seafood')\n",
    "if m is not None:\n",
    "    print(m.group())"
   ]
  },
  {
   "cell_type": "markdown",
   "metadata": {},
   "source": [
    "### 12. matching any single character (.)\n",
    "\n",
    "* a dot cannot match a NEWLINE or a\n",
    "non-character, i.e., the empty string."
   ]
  },
  {
   "cell_type": "code",
   "execution_count": 15,
   "metadata": {},
   "outputs": [
    {
     "name": "stdout",
     "output_type": "stream",
     "text": [
      "bend\n"
     ]
    }
   ],
   "source": [
    "anyend=\".end\"\n",
    "m=re.match(anyend,\"bend\")\n",
    "if m is not None:\n",
    "    print(m.group())"
   ]
  },
  {
   "cell_type": "code",
   "execution_count": 16,
   "metadata": {},
   "outputs": [
    {
     "data": {
      "text/plain": [
       "'abc-123'"
      ]
     },
     "execution_count": 16,
     "metadata": {},
     "output_type": "execute_result"
    }
   ],
   "source": [
    "m=re.match('(\\w\\w\\w)-(\\d\\d\\d)','abc-123')\n",
    "m.group()"
   ]
  },
  {
   "cell_type": "code",
   "execution_count": 17,
   "metadata": {},
   "outputs": [
    {
     "data": {
      "text/plain": [
       "'abc'"
      ]
     },
     "execution_count": 17,
     "metadata": {},
     "output_type": "execute_result"
    }
   ],
   "source": [
    "m.group(1)"
   ]
  },
  {
   "cell_type": "code",
   "execution_count": 18,
   "metadata": {},
   "outputs": [
    {
     "data": {
      "text/plain": [
       "'123'"
      ]
     },
     "execution_count": 18,
     "metadata": {},
     "output_type": "execute_result"
    }
   ],
   "source": [
    "m.group(2)"
   ]
  },
  {
   "cell_type": "code",
   "execution_count": 19,
   "metadata": {},
   "outputs": [
    {
     "data": {
      "text/plain": [
       "('abc', '123')"
      ]
     },
     "execution_count": 19,
     "metadata": {},
     "output_type": "execute_result"
    }
   ],
   "source": [
    "m.groups()"
   ]
  },
  {
   "cell_type": "markdown",
   "metadata": {},
   "source": [
    "#### group() is used in the normal way to show the entire match, but can also be used to grab individual subgroup matches. We can also use the groups() method to obtain a tuple of all the substring matches."
   ]
  },
  {
   "cell_type": "code",
   "execution_count": 20,
   "metadata": {},
   "outputs": [
    {
     "data": {
      "text/plain": [
       "'ab'"
      ]
     },
     "execution_count": 20,
     "metadata": {},
     "output_type": "execute_result"
    }
   ],
   "source": [
    "m=re.match('ab','ab')\n",
    "m.group()# entire match"
   ]
  },
  {
   "cell_type": "code",
   "execution_count": 21,
   "metadata": {},
   "outputs": [
    {
     "data": {
      "text/plain": [
       "()"
      ]
     },
     "execution_count": 21,
     "metadata": {},
     "output_type": "execute_result"
    }
   ],
   "source": [
    "m.groups()# all subgroups"
   ]
  },
  {
   "cell_type": "code",
   "execution_count": 24,
   "metadata": {},
   "outputs": [
    {
     "data": {
      "text/plain": [
       "'ab'"
      ]
     },
     "execution_count": 24,
     "metadata": {},
     "output_type": "execute_result"
    }
   ],
   "source": [
    "m=re.match('(ab)','ab')\n",
    "m.group()# entire match"
   ]
  },
  {
   "cell_type": "code",
   "execution_count": 25,
   "metadata": {},
   "outputs": [
    {
     "data": {
      "text/plain": [
       "'ab'"
      ]
     },
     "execution_count": 25,
     "metadata": {},
     "output_type": "execute_result"
    }
   ],
   "source": [
    "m.group(1)# subgroup(1)"
   ]
  },
  {
   "cell_type": "code",
   "execution_count": 26,
   "metadata": {},
   "outputs": [
    {
     "data": {
      "text/plain": [
       "('ab',)"
      ]
     },
     "execution_count": 26,
     "metadata": {},
     "output_type": "execute_result"
    }
   ],
   "source": [
    "m.groups() # all subgroups"
   ]
  },
  {
   "cell_type": "code",
   "execution_count": 28,
   "metadata": {
    "collapsed": true
   },
   "outputs": [],
   "source": [
    "m=re.search(r'\\Bthe','bitethe dog') \n",
    "# search non-boundary"
   ]
  },
  {
   "cell_type": "code",
   "execution_count": 29,
   "metadata": {},
   "outputs": [
    {
     "data": {
      "text/plain": [
       "'the'"
      ]
     },
     "execution_count": 29,
     "metadata": {},
     "output_type": "execute_result"
    }
   ],
   "source": [
    "m.group()"
   ]
  },
  {
   "cell_type": "markdown",
   "metadata": {},
   "source": [
    "* it is a good idea to use raw strings with regular expressions."
   ]
  },
  {
   "cell_type": "markdown",
   "metadata": {},
   "source": [
    "### 13.finding every occurence with findall()\n",
    "    * It looks for all non-overlap- ping occurrences of an RE pattern in a string. It is similar to search() in that it performs a string search, but it differs from match() and search() in that findall() always returns a list. The list will be empty if no occurrences are found but if successful, the list will consist of all matches found (grouped in left-to-right order of occurrence)."
   ]
  },
  {
   "cell_type": "code",
   "execution_count": 32,
   "metadata": {},
   "outputs": [
    {
     "data": {
      "text/plain": [
       "['car']"
      ]
     },
     "execution_count": 32,
     "metadata": {},
     "output_type": "execute_result"
    }
   ],
   "source": [
    "re.findall('car','car')"
   ]
  },
  {
   "cell_type": "code",
   "execution_count": 31,
   "metadata": {},
   "outputs": [
    {
     "data": {
      "text/plain": [
       "['car', 'car', 'car']"
      ]
     },
     "execution_count": 31,
     "metadata": {},
     "output_type": "execute_result"
    }
   ],
   "source": [
    "re.findall('car', 'carry the barcardi to the car')"
   ]
  },
  {
   "cell_type": "markdown",
   "metadata": {},
   "source": [
    "    * for multiple successful matches, each subgroup match is a single element in a tuple, and such tuples (one for each suc- cessful match) are the elements of the resulting list."
   ]
  },
  {
   "cell_type": "markdown",
   "metadata": {},
   "source": [
    "### 14.Searching and Replacing with sub() [and subn()]\n",
    "\n",
    "* There are two functions/methods for search-and-replace functionality: sub() and subn().\n",
    "* They are almost identical and replace all matched occurrences of the RE pattern in a string with some sort of replacement.The replacement is usually a string, but it can also be a function that returns a replacement string.\n",
    "    * subn() is exactly the same as sub(), but it also returns the total number of substitutions made—both the newly substituted string and the substitution count are returned as a 2-tuple."
   ]
  },
  {
   "cell_type": "code",
   "execution_count": 34,
   "metadata": {},
   "outputs": [
    {
     "data": {
      "text/plain": [
       "'attn: Mr. Smith\\n\\nDear Mr. Smith,\\n'"
      ]
     },
     "execution_count": 34,
     "metadata": {},
     "output_type": "execute_result"
    }
   ],
   "source": [
    "re.sub('X', 'Mr. Smith', 'attn: X\\n\\nDear X,\\n')"
   ]
  },
  {
   "cell_type": "code",
   "execution_count": 35,
   "metadata": {},
   "outputs": [
    {
     "data": {
      "text/plain": [
       "('attn: Mr. Smith\\n\\nDear Mr. Smith,\\n', 2)"
      ]
     },
     "execution_count": 35,
     "metadata": {},
     "output_type": "execute_result"
    }
   ],
   "source": [
    "re.subn('X', 'Mr. Smith', 'attn: X\\n\\nDear X,\\n')"
   ]
  },
  {
   "cell_type": "code",
   "execution_count": 36,
   "metadata": {},
   "outputs": [
    {
     "name": "stdout",
     "output_type": "stream",
     "text": [
      "attn: Mr. Smith\n",
      "\n",
      "Dear Mr. Smith,\n",
      "\n"
     ]
    }
   ],
   "source": [
    "print(re.sub('X', 'Mr. Smith', 'attn: X\\n\\nDear X,\\n'))"
   ]
  },
  {
   "cell_type": "markdown",
   "metadata": {},
   "source": [
    "### 15.Splitting (on Delimiting Pattern) with split()\n",
    "* The re module and RE object method split() work similarly to its string counterpart, but rather than splitting on a fixed string, they split a string based on an RE pattern\n",
    "* you can specify the maximum number of splits by setting a value (other than zero) to the max argument.\n",
    "* If the delimiter given is not a regular expression that uses special symbols to match multiple patterns, then re.split() works in exactly the same manner as string.split()"
   ]
  },
  {
   "cell_type": "code",
   "execution_count": 37,
   "metadata": {},
   "outputs": [
    {
     "data": {
      "text/plain": [
       "['str1', 'str2', 'str3']"
      ]
     },
     "execution_count": 37,
     "metadata": {},
     "output_type": "execute_result"
    }
   ],
   "source": [
    "re.split(':', 'str1:str2:str3')"
   ]
  },
  {
   "cell_type": "markdown",
   "metadata": {},
   "source": [
    " * Problems may occur if there is a symbol used by both ASCII and regular expressions, so in the Core Note on the following page, we recommend the use of Python raw strings to prevent any problems. One more caution: the “\\w” and “\\W” alphanumeric character sets are affected by the L or LOCALE compilation flag and in Python 1.6 and newer, by Unicode flags starting in 2.0 (U or UNICODE)."
   ]
  },
  {
   "cell_type": "markdown",
   "metadata": {},
   "source": [
    "* There are conflicts between ASCII characters and regular expression special characters. As a special symbol, “\\b” represents the ASCII character for backspace, but “\\b” is also a regular expression special symbol, meaning “match” on a word boundary. \n",
    "* solution: raw string"
   ]
  },
  {
   "cell_type": "code",
   "execution_count": 38,
   "metadata": {},
   "outputs": [
    {
     "data": {
      "text/plain": [
       "'blow'"
      ]
     },
     "execution_count": 38,
     "metadata": {},
     "output_type": "execute_result"
    }
   ],
   "source": [
    "m=re.match(r'\\bblow','blow')\n",
    "m.group()"
   ]
  },
  {
   "cell_type": "code",
   "execution_count": 42,
   "metadata": {},
   "outputs": [],
   "source": [
    "data='Thu Feb 15 17:46:04 2007::uzifzf@dpyivihw.gov::1171590364-6-8'"
   ]
  },
  {
   "cell_type": "code",
   "execution_count": 45,
   "metadata": {},
   "outputs": [
    {
     "data": {
      "text/plain": [
       "'4-6-8'"
      ]
     },
     "execution_count": 45,
     "metadata": {},
     "output_type": "execute_result"
    }
   ],
   "source": [
    "patt='.+(\\d+-\\d+-\\d+)'# greedy: \n",
    "#regular expressions are inherently greedy.\n",
    "# .+ will match as many as possible\n",
    "re.match(patt,data).group(1)"
   ]
  },
  {
   "cell_type": "code",
   "execution_count": 44,
   "metadata": {},
   "outputs": [
    {
     "data": {
      "text/plain": [
       "'1171590364-6-8'"
      ]
     },
     "execution_count": 44,
     "metadata": {},
     "output_type": "execute_result"
    }
   ],
   "source": [
    "patt='.+?(\\d+-\\d+-\\d+)'\n",
    "re.match(patt,data).group(1)"
   ]
  },
  {
   "cell_type": "code",
   "execution_count": null,
   "metadata": {
    "collapsed": true
   },
   "outputs": [],
   "source": []
  }
 ],
 "metadata": {
  "kernelspec": {
   "display_name": "Python 3",
   "language": "python",
   "name": "python3"
  },
  "language_info": {
   "codemirror_mode": {
    "name": "ipython",
    "version": 3
   },
   "file_extension": ".py",
   "mimetype": "text/x-python",
   "name": "python",
   "nbconvert_exporter": "python",
   "pygments_lexer": "ipython3",
   "version": "3.6.3"
  }
 },
 "nbformat": 4,
 "nbformat_minor": 2
}
