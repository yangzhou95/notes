{
 "cells": [
  {
   "cell_type": "markdown",
   "metadata": {},
   "source": [
    "## <p style=\"color:red\"> Chapter 3</p>"
   ]
  },
  {
   "cell_type": "markdown",
   "metadata": {},
   "source": [
    "## 1. special characters\n",
    "\n",
    "\\: continue the previous line of code\n",
    "\n",
    "if (weather=='sunny') and \\\n",
    "\n",
    "      (is_windy=True):\n",
    "              \n",
    "              pass\n",
    "\n",
    "#: comment\n",
    "\n",
    "\\n: new line\n",
    "\n",
    "closed operator can span over multip lines: such as \"xxx\", 'xxx','''xxx'''\n",
    "\n",
    "code block indention: 4 spaces\n"
   ]
  },
  {
   "cell_type": "markdown",
   "metadata": {},
   "source": [
    "## 2. when assign one object to a variable, the reference of this object is pass, not value\n",
    "\n",
    "## the assignment in python won't return any value\n",
    "\n",
    "e.g: y=(x=x+1)#illegal.\n",
    "\n",
    "but the chained assignment is ok\n",
    "\n",
    "e.g: x=y=z+1\n",
    "\n"
   ]
  },
  {
   "cell_type": "markdown",
   "metadata": {},
   "source": [
    "## 3. assignment for muttable variables and immutable varibles\n",
    "\n",
    "assignment for mutable object assignment: muta_vari=muta_vari+vari, the mutable object is change at its original address\n",
    "\n",
    "assignment for immutable object assignment: immut_vari=immut_vari+varia, the original object is assigned a new object\n",
    "\n",
    "python doesn't support x++ or x--"
   ]
  },
  {
   "cell_type": "markdown",
   "metadata": {},
   "source": [
    "## 4.multuple\n",
    "\n",
    "x,y,z=1,2,'string', the left side and the right side are tuple\n",
    "\n",
    "usually, a tuple is enclosed by a pair of bracket, but it's optional\n"
   ]
  },
  {
   "cell_type": "markdown",
   "metadata": {},
   "source": [
    "## 5. python identifier\n",
    "\n",
    "  * must start with a letter or _, start with a number is illegal, the rest of it can be number,letter or _;\n",
    "  * case sensitive"
   ]
  },
  {
   "cell_type": "markdown",
   "metadata": {},
   "source": [
    "## 6. python doesn't support identifier overload;\n",
    "\n",
    "   * Kewword: is a module contains a list of keywords and the funciton: iskeyword()\n",
    "\n",
    "   * __builtins__: it's a module that contains the 'built-in'(which is loaded into the system before the <<< prompt, it's kind of like the globals)\n",
    "   "
   ]
  },
  {
   "cell_type": "markdown",
   "metadata": {},
   "source": [
    "## 7. special variables\n",
    "\n",
    "   * __vari: can't be imported by 'from module import *';\n",
    "   * __vari__: defined by the system;\n",
    "   * __vari: the private variable for a class. can't be accessed outside of the class or module it resides"
   ]
  },
  {
   "cell_type": "markdown",
   "metadata": {},
   "source": [
    "## 8. obj.__doc__: doc string for a modle, class or function, can be accessed at runtime\n",
    "\n",
    "file line of a python file in the Unix environment:\n",
    "\n",
    "#! /usr/bin/env python   # specify where is python interpretor."
   ]
  },
  {
   "cell_type": "markdown",
   "metadata": {},
   "source": [
    "## 9. import module\n",
    "\n",
    "If module A import module B and C, when module A is loaed into the system, every module will be imported once and only once.\n",
    "\n",
    "When a module is imported or loaded, only the declaration parts (function, class) of it will be executed, and the codes inside it won't be executed."
   ]
  },
  {
   "cell_type": "markdown",
   "metadata": {},
   "source": [
    "## 10. __name__\n",
    "  * __name__ is the name of the module, if the module is imported;\n",
    "  * __name__='__main__': if the module is executed.\n",
    "  \n"
   ]
  },
  {
   "cell_type": "markdown",
   "metadata": {},
   "source": [
    "## 11. del: release memory\n",
    "\n",
    "variable type and its memory allocation are fixed when we assign a value to the variable;\n",
    "\n",
    "python intepretor: is responsible for memory management;\n",
    "\n",
    "increase reference counter:\n",
    "   * when the variable is created;\n",
    "   * when its alias is created;\n",
    "   * when the variable is pass to a function as one of the parameter;\n",
    "   * when the variable becomes an element of a container.\n",
    "   \n",
    "decrease the reference counter:\n",
    "   * the variable is deleted;\n",
    "   * the varialbe is not in its action scope (leavign its context);\n",
    "   * the variale is remove from a window object;\n",
    "   * when the window object is deleted.\n",
    "   \n",
    "\n",
    "Interpretor: keep track of reference counters for variables;\n",
    "garbage colletior: is  responsible for release memory;\n",
    "   * lookup obj with 0 reference counter;\n",
    "   * also check the obj that has a reference counter larger than 0 but should be deleted or released.\n",
    "   \n",
    "when use 'os.linesep' in your program, the interpretor will lookup twice:\n",
    "   * lookup 'os';\n",
    "   * lookup 'linesep' in 'os'.\n",
    "   \n",
    "   \n",
    "\n"
   ]
  },
  {
   "cell_type": "code",
   "execution_count": null,
   "metadata": {
    "collapsed": true
   },
   "outputs": [],
   "source": []
  }
 ],
 "metadata": {
  "kernelspec": {
   "display_name": "Python 3",
   "language": "python",
   "name": "python3"
  },
  "language_info": {
   "codemirror_mode": {
    "name": "ipython",
    "version": 3
   },
   "file_extension": ".py",
   "mimetype": "text/x-python",
   "name": "python",
   "nbconvert_exporter": "python",
   "pygments_lexer": "ipython3",
   "version": "3.7.9"
  }
 },
 "nbformat": 4,
 "nbformat_minor": 2
}
