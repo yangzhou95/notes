{
 "cells": [
  {
   "cell_type": "markdown",
   "metadata": {},
   "source": [
    "# <p style=\"color:red\">Chapter 14 Execution Envrironment</p>"
   ]
  },
  {
   "cell_type": "markdown",
   "metadata": {},
   "source": [
    "#### 1.callable: meaning any object that can be invoked with the function operator “()”.\n",
    "\n",
    "#### two ways of invoking callable objects:\n",
    "* 1. The function operator is placed immediately following the name of the callable to invoke it. For example, the function “foo” is called with “foo()”\n",
    "* 2. Callables may also be invoked via functional programming interfaces such as apply(), filter(), map(), and reduce()\n",
    "\n",
    "#### Python has four callable objects: functions, methods, classes, and some class instances. Keep in mind that any additional refer- ences or aliases of these objects are callable, too."
   ]
  },
  {
   "cell_type": "markdown",
   "metadata": {},
   "source": [
    "#### a. functions. there are three different types of function objects.\n",
    "\n",
    " 1. BIF: writtn in c/c++, loaded into the system as the first namespace. these functions are found in the \\_\\_builtin\\_\\_ module and are imported into the interpreter as the \\_\\_builtins\\_\\_ module.\n",
    "    * built-in function attributes:\n",
    "        * bif.__doc__:\n",
    "        * bif.__name__:\n",
    "        * bif.__self__:Set to None (reserved for built-in methods)\n",
    "        * bif.__module__:Name of the module where bif is defined (or None)\n",
    "\n",
    " 2. UDF: UDFs are generally written in Python and defined at the top-level part of a module and hence are loaded as part of the global namespace\n",
    "\n",
    "        * udf.__func_code__:Byte-compiled code object\n",
    "        * udf.func_globals:Global namespace dictionary; same as calling globals(x) from within function\n",
    "        * udf.func_dict: Namespace for function attributes\n",
    "        * udf.__func_code__: Namespace for function attributes\n",
    "\n",
    "3. lambda expression: Function objects created by lambda also share all the same attributes as user-defined functions, with the only exception resulting from the fact that they are not named\n",
    "    * the __name__ or func_name attribute is given the string “<lambda>”.\n",
    "\n",
    "\n",
    "        \n"
   ]
  },
  {
   "cell_type": "code",
   "execution_count": 9,
   "metadata": {
    "collapsed": true
   },
   "outputs": [],
   "source": [
    "class AA(object):\n",
    "    def foo(self):\n",
    "        pass"
   ]
  },
  {
   "cell_type": "code",
   "execution_count": 10,
   "metadata": {},
   "outputs": [
    {
     "data": {
      "text/plain": [
       "method"
      ]
     },
     "execution_count": 10,
     "metadata": {},
     "output_type": "execute_result"
    }
   ],
   "source": [
    "type(AA().foo)"
   ]
  },
  {
   "cell_type": "code",
   "execution_count": 11,
   "metadata": {},
   "outputs": [
    {
     "data": {
      "text/plain": [
       "type"
      ]
     },
     "execution_count": 11,
     "metadata": {},
     "output_type": "execute_result"
    }
   ],
   "source": [
    "type(type)"
   ]
  },
  {
   "cell_type": "code",
   "execution_count": 12,
   "metadata": {},
   "outputs": [
    {
     "data": {
      "text/plain": [
       "function"
      ]
     },
     "execution_count": 12,
     "metadata": {},
     "output_type": "execute_result"
    }
   ],
   "source": [
    "def foo():\n",
    "    pass\n",
    "type(foo)"
   ]
  },
  {
   "cell_type": "code",
   "execution_count": 13,
   "metadata": {
    "collapsed": true
   },
   "outputs": [],
   "source": [
    "lamFunc=lambda x:x*3"
   ]
  },
  {
   "cell_type": "code",
   "execution_count": 14,
   "metadata": {},
   "outputs": [
    {
     "data": {
      "text/plain": [
       "function"
      ]
     },
     "execution_count": 14,
     "metadata": {},
     "output_type": "execute_result"
    }
   ],
   "source": [
    "type(lamFunc)"
   ]
  },
  {
   "cell_type": "markdown",
   "metadata": {},
   "source": [
    "### b. methods: methods are functions that are defined as part of a class—these are user-defined methods.\n",
    "### BIM attributes:\n",
    "    * bim.__doc__:\n",
    "    * bim.__name__:\n",
    "    * bim.__self__: Object the method is bound to\n",
    " 1. BIMs: Only built-in types (BITs) have BIMs.\n",
    "    * the type() factory function gives the same output for built-in meth- ods as it does for BIFs\n",
    "    * both BIMs and BIFs share the same attributes, too. The only exception is that now the __self__ attribute points to a Python object (for BIMs) as opposed to None (for BIFs):\n",
    " 2. UDMs: User-defined methods are contained in class definitions and are merely “wrappers” around standard functions, applicable only to the class they are defined for. They may also be called by subclass instances if not overridden in the subclass definition.\n",
    "     * Regardless of whether they are bound or not, all UDMs are of the same type, “instance method,”\n",
    "         * unbound UDM: function\n",
    "         * bound UDM: method\n",
    "  \n",
    "  UDM attributes:\n",
    "      * udm.im_class:Class that method is associated with (for bound methods; if unbound, then the class that requested udm)\n",
    "      * udm.im_func: Function object for method (see UDFs)\n",
    "      * udm.im_self: Associated instance if bound, None if unbound\n",
    "     \n",
    " "
   ]
  },
  {
   "cell_type": "code",
   "execution_count": 15,
   "metadata": {},
   "outputs": [
    {
     "data": {
      "text/plain": [
       "builtin_function_or_method"
      ]
     },
     "execution_count": 15,
     "metadata": {},
     "output_type": "execute_result"
    }
   ],
   "source": [
    "type([].append)# builtin methods"
   ]
  },
  {
   "cell_type": "code",
   "execution_count": 16,
   "metadata": {},
   "outputs": [
    {
     "data": {
      "text/plain": [
       "builtin_function_or_method"
      ]
     },
     "execution_count": 16,
     "metadata": {},
     "output_type": "execute_result"
    }
   ],
   "source": [
    "type(dir) # builtin functions"
   ]
  },
  {
   "cell_type": "code",
   "execution_count": 17,
   "metadata": {},
   "outputs": [
    {
     "data": {
      "text/plain": [
       "[]"
      ]
     },
     "execution_count": 17,
     "metadata": {},
     "output_type": "execute_result"
    }
   ],
   "source": [
    "[].append.__self__# points to a python object"
   ]
  },
  {
   "cell_type": "code",
   "execution_count": 19,
   "metadata": {},
   "outputs": [
    {
     "data": {
      "text/plain": [
       "<module 'builtins' (built-in)>"
      ]
     },
     "execution_count": 19,
     "metadata": {},
     "output_type": "execute_result"
    }
   ],
   "source": [
    "dir.__self__# point to None"
   ]
  },
  {
   "cell_type": "code",
   "execution_count": 20,
   "metadata": {
    "collapsed": true
   },
   "outputs": [],
   "source": [
    "class C(object):\n",
    "    def foo(self):\n",
    "        pass"
   ]
  },
  {
   "cell_type": "code",
   "execution_count": 21,
   "metadata": {
    "collapsed": true
   },
   "outputs": [],
   "source": [
    "c=C()"
   ]
  },
  {
   "cell_type": "code",
   "execution_count": 26,
   "metadata": {},
   "outputs": [
    {
     "data": {
      "text/plain": [
       "function"
      ]
     },
     "execution_count": 26,
     "metadata": {},
     "output_type": "execute_result"
    }
   ],
   "source": [
    "type(C.foo)# type of unbound method"
   ]
  },
  {
   "cell_type": "code",
   "execution_count": 27,
   "metadata": {},
   "outputs": [
    {
     "data": {
      "text/plain": [
       "method"
      ]
     },
     "execution_count": 27,
     "metadata": {},
     "output_type": "execute_result"
    }
   ],
   "source": [
    "type(c.foo)# type of bound method"
   ]
  },
  {
   "cell_type": "code",
   "execution_count": 29,
   "metadata": {},
   "outputs": [
    {
     "data": {
      "text/plain": [
       "<function __main__.C.foo>"
      ]
     },
     "execution_count": 29,
     "metadata": {},
     "output_type": "execute_result"
    }
   ],
   "source": [
    "C.foo# unbound method object"
   ]
  },
  {
   "cell_type": "code",
   "execution_count": 30,
   "metadata": {},
   "outputs": [
    {
     "data": {
      "text/plain": [
       "<bound method C.foo of <__main__.C object at 0x112299ef0>>"
      ]
     },
     "execution_count": 30,
     "metadata": {},
     "output_type": "execute_result"
    }
   ],
   "source": [
    "c.foo # bound method object"
   ]
  },
  {
   "cell_type": "markdown",
   "metadata": {},
   "source": [
    "### 3. classes"
   ]
  },
  {
   "cell_type": "markdown",
   "metadata": {},
   "source": [
    "#### The callable property of classes allows instances to be created. \n",
    "* Python provides the \\_\\_call\\_\\_() special method for classes, which allows a programmer to create objects (instances) that are callable\n",
    "* by default, the instances of a class are not callable unless the \\_\\_call\\_\\_() method are overriden.Calling such instance objects is equivalent to invoking the __call__() method. Naturally, any arguments given in the instance call are passed as arguments to __call__().\n",
    "* You also have to keep in mind that __call__() is still a method, so the instance object itself is passed in as the first argument to __call__() as self.In other words, if foo is an instance, then foo() has the same effect as foo.__call__(foo)—the occurrence of foo as an argument—simply the reference to self that is automatically part of every method call. If __call__() has arguments, i.e., __call__(self, arg), then foo(arg) is the same as invoking foo.__call__(foo,arg). "
   ]
  },
  {
   "cell_type": "code",
   "execution_count": 35,
   "metadata": {
    "collapsed": true
   },
   "outputs": [],
   "source": [
    "class C(object):\n",
    "    def __call__(self,*args):\n",
    "        print(\"call with args:\",args)"
   ]
  },
  {
   "cell_type": "code",
   "execution_count": 37,
   "metadata": {},
   "outputs": [
    {
     "name": "stdout",
     "output_type": "stream",
     "text": [
      "call with args: (3,)\n"
     ]
    }
   ],
   "source": [
    "c=C()\n",
    "c(3)"
   ]
  },
  {
   "cell_type": "markdown",
   "metadata": {},
   "source": [
    "### 4. code object: executable blocks of code called code objects\n",
    "    * code object are excutable, not callable\n",
    "    * At the heart of every callable is a code object, which consists of statements, assignments, expressions, and other callables. \n",
    "    * In general, code objects can be executed as part of function or method invocations or using either the exec statement or eval() BIF. \n",
    "    * If any Python code is to be executed, that code must first be converted to byte-compiled code (aka bytecode).\n",
    "    * code objects are bytecode, code objects do not contain any information about their execution environment, and that is why callable exists, to \"warp\" a code object and provide that extra information.\n",
    "    * udf.func_code: it's a code object.\n",
    "    * udf.im_func: it's a function object, and it has its own udm.im_func.func_code code object.\n",
    "    * function objects are merely wrappers for code objects, and methods are wrappers for function objects\n",
    "    * method >> function >> code object"
   ]
  },
  {
   "cell_type": "markdown",
   "metadata": {},
   "source": [
    "### 5. BIF and executable object statements: \n",
    "* Python provides a number os BIFs supporting callable and excutable objects, including \"exec\" statement. Using \"compile() BIF\" can generate code objects.\n",
    "\n",
    "\n",
    "* compile(string,file, type): Creates a code object from string of type type; file is where the code originates from (usually set to \"\"). compile() is a function that allows the programmer to generate a code object on the fly, that is, during runtime. code must occur every time. The compile() function provides a one-time byte-code compilation of code so that the precompile does not have to take place with each invoca- tion. \n",
    "\n",
    "* All three arguments to compile() are required, with the first being a string representing the Python code to compile. The second string, although required, is usually set to the empty string. This parameter represents the file name (as a string) where this code object is located or can be found. Normal usage is for compile() to generate a code object from a dynamically gener- ated string of Python code—code that obviously does not originate from an existing file.The last argument is a string indicating the code object type. There are three possible values:\n",
    "    * \"eval\": Evaluatable expression [to be used with eval()]\n",
    "    * \"single\": Single executable statement [to be used with exec]\n",
    "    * \"exec\": Group of executable statements [to be used with exec]\n"
   ]
  },
  {
   "cell_type": "code",
   "execution_count": 39,
   "metadata": {},
   "outputs": [
    {
     "data": {
      "text/plain": [
       "300"
      ]
     },
     "execution_count": 39,
     "metadata": {},
     "output_type": "execute_result"
    }
   ],
   "source": [
    "eval_code=compile(\"100+200\",'','eval')# evaluatable expression\n",
    "eval(eval_code)"
   ]
  },
  {
   "cell_type": "code",
   "execution_count": 41,
   "metadata": {},
   "outputs": [
    {
     "data": {
      "text/plain": [
       "<code object <module> at 0x1122279c0, file \"\", line 1>"
      ]
     },
     "execution_count": 41,
     "metadata": {},
     "output_type": "execute_result"
    }
   ],
   "source": [
    "single_code=compile('print(\"hello world!\")','','single')\n",
    "single_code# single executable stateemnt"
   ]
  },
  {
   "cell_type": "code",
   "execution_count": 42,
   "metadata": {},
   "outputs": [
    {
     "name": "stdout",
     "output_type": "stream",
     "text": [
      "hello world!\n"
     ]
    }
   ],
   "source": [
    "exec(single_code)"
   ]
  },
  {
   "cell_type": "code",
   "execution_count": 46,
   "metadata": {
    "collapsed": true
   },
   "outputs": [],
   "source": [
    "exec_code=compile(\"\"\"\n",
    "req=input(\"input your name\")\n",
    "for ele in req:\n",
    "    print(ele)\n",
    "\"\"\",'','exec') # group of executable statements."
   ]
  },
  {
   "cell_type": "code",
   "execution_count": 45,
   "metadata": {},
   "outputs": [
    {
     "name": "stdout",
     "output_type": "stream",
     "text": [
      "input your namezhou\n",
      "z\n",
      "h\n",
      "o\n",
      "u\n"
     ]
    }
   ],
   "source": [
    "exec(exec_code)"
   ]
  },
  {
   "cell_type": "markdown",
   "metadata": {},
   "source": [
    "\n",
    "* eval(obj, globals=globals(), locals=locals()): Evaluates obj, which is either an expression compiled into a code object or a string expression; global and/or local namespace may also be provided.\n",
    "\n",
    "* eval() evaluates an expression (first parameter, obj), either as a string representation or a pre-compiled code object created via the compile() built-in.\n",
    "\n",
    "* The second and third parameters, both optional, represent the objects in the global and local namespaces, respectively. If provided, globals must be a dictionary. If provided, locals can be any mapping object, e.g., one that implements the __getitem__() special method.If neither of these are given, they default to objects returned by globals() and locals(), respectively. If only a globals dictionary is passed in, then it is also passed in as locals.\n"
   ]
  },
  {
   "cell_type": "code",
   "execution_count": 47,
   "metadata": {},
   "outputs": [
    {
     "data": {
      "text/plain": [
       "300"
      ]
     },
     "execution_count": 47,
     "metadata": {},
     "output_type": "execute_result"
    }
   ],
   "source": [
    "eval('100+200')"
   ]
  },
  {
   "cell_type": "markdown",
   "metadata": {},
   "source": [
    "\n",
    "* exec(obj): Executes obj, a single Python statement or set of statements, either in code object or string format; obj may also be a file object (opened to a valid Python script)\n",
    "\n",
    "\n",
    "* exec statement also executes either a code object or a string representing Python code. Similarly, precompiling oft-repeated code with compile() helps improve performance by not having to go through the byte-code compilation process for each invocation.\n",
    "\n",
    "\n",
    "* The executed object (obj) can be either a single statement or a group of statements, and either may be compiled into a code object (with “single” or “exec,” respectively) or it can be just the raw string.\n",
    "\n",
    "\n",
    "*  exec can also accept a valid file object to a (valid) Python file. If we take the code in the multi-line string above and create a file called xcount.py, then we could also execute the same code with the following: f = open('xcount.py'), exec(f)\n",
    "\n",
    "\n",
    "* once execution has completed, a successive call to exec doesn’t do anything,exec has read all the data in the file and is sitting at the end-of-file (EOF). When exec is called again with the same file object, there is no more code to execute, so it does not do anything. f.seek(0) will go to the beginning of the file.\n",
    "\n",
    "\n",
    "* both exec and eval() can take string representations of Python code to execute\n",
    "\n",
    "\n",
    "* input(prompt=''): Equivalent to eval(raw_input(prompt=''))\n",
    "\n",
    "\n",
    "* callable(): callable() is a Boolean function that determines if an object type can be invoked via the function operator ( ( ) ). "
   ]
  },
  {
   "cell_type": "code",
   "execution_count": 50,
   "metadata": {},
   "outputs": [
    {
     "name": "stdout",
     "output_type": "stream",
     "text": [
      "x is: 0\n"
     ]
    }
   ],
   "source": [
    "exec(\"\"\"\n",
    "x=0\n",
    "print(\"x is:\",x)\n",
    "\"\"\")"
   ]
  },
  {
   "cell_type": "markdown",
   "metadata": {},
   "source": [
    "\n",
    "* The input() BIF is the same as the composite of eval() and raw_input(), equivalent to eval(raw_input()). Like raw_input(), input() has an optional parameter, which represents a string prompt to display to the user. If not provided, the string has a default value of the empty string.\n",
    "\n",
    "\n",
    "* input() per- forms the same task of obtaining user input; however, it takes things one step further by evaluating the input as a Python expression. This means that the data returned by input() are a Python object, the result of performing the evaluation of the input expression.\n"
   ]
  },
  {
   "cell_type": "code",
   "execution_count": 52,
   "metadata": {},
   "outputs": [
    {
     "name": "stdout",
     "output_type": "stream",
     "text": [
      "Enter a list:[123,'xsy']\n"
     ]
    },
    {
     "data": {
      "text/plain": [
       "\"[123,'xsy']\""
      ]
     },
     "execution_count": 52,
     "metadata": {},
     "output_type": "execute_result"
    }
   ],
   "source": [
    "aList=input('Enter a list:')\n",
    "aList"
   ]
  },
  {
   "cell_type": "code",
   "execution_count": 53,
   "metadata": {},
   "outputs": [
    {
     "data": {
      "text/plain": [
       "str"
      ]
     },
     "execution_count": 53,
     "metadata": {},
     "output_type": "execute_result"
    }
   ],
   "source": [
    "type(aList)"
   ]
  },
  {
   "cell_type": "markdown",
   "metadata": {},
   "source": [
    "### 6. Import\n",
    "\n",
    "* importing a module the first time will cause the code at the top level(not indented) of that module to execute.\n",
    "\n",
    "* One complication arises when the imported module itself contains import statements. If the modules in these import statements have not been loaded yet, they will be loaded and their top-level code executed, resulting in recursive import behavior. \n",
    "\n"
   ]
  },
  {
   "cell_type": "markdown",
   "metadata": {},
   "source": [
    "### 7. execfile(fileName)\n",
    "\n",
    "* execfile(fileName) is equalt to: f=open(fileName,'r'), exec(f), f.close()\n",
    "\n",
    "* execfile(filename, globals=globals(), locals=locals())\n",
    "\n",
    "* Like eval(), both globals and locals are optional and default to the executing environments’ namespaces if not given. If only globals is given, then locals defaults to globals. If provided, locals can be any mapping object [an object defining/overriding __getitem__()]\n"
   ]
  },
  {
   "cell_type": "markdown",
   "metadata": {},
   "source": [
    "### 8. executing modules as script\n",
    "\n",
    "* how to run a module from the command line without the full pathname and let python's machanism do the hunting job for us? By using the Python -c command-line switch: \n",
    "    * $ python -c \"import CGIHTTPServer; CGIHTTPServer.test()\"\n",
    "    \n",
    "    * This option allows you to specify a Python statement you wish to run.but the problem is that the __name__ module is not '__main__'\n",
    "    \n",
    "    * being able to execute a module in your library but as a script and not as an imported module. That is the main motivation behind the -m option:   \n",
    "    * $ python -m CGIHTTPServer\n"
   ]
  },
  {
   "cell_type": "markdown",
   "metadata": {},
   "source": [
    "### 8. executing other programs"
   ]
  },
  {
   "cell_type": "markdown",
   "metadata": {},
   "source": [
    "os Module Functions for External Program Execution\n",
    "* system(cmd): Execute program cmd given as string, wait for pro- gram completion, and return the exit code (on Win- dows, the exit code is always 0)\n",
    "\n",
    "* fork(): Create a child process that runs in parallel to the parent process [usually used with exec*()]; return twice... once for the parent and once for the child --> unix\n",
    "\n",
    "* execl(file, arg0, arg1,...): Execute file with argument list arg0, arg1, etc.\n",
    "\n",
    "* execv(file, arglist): Same as execl() except with argument vector (list or tuple) arglist\n",
    "\n",
    "* execle(file, arg0, arg1,... env): Same as execl() but also providing environment variable dictionary env\n",
    "\n",
    "* execve(file, arglist, env): Same as execle() except with argument vector arglist\n",
    "\n",
    "* execlp(cmd, arg0, arg1,...): Same as execl() but search for full file pathname of cmd in user search path\n",
    "\n",
    "* execvp(cmd, arglist): Same as execlp() except with argument vector arglist\n",
    "\n",
    "* execlpe(cmd, arg0,arg1,... env): Same as execlp() but also providing environ- ment variable dictionary env\n",
    "\n",
    "* execvpe(cmd,arglist, env):Same as execvp() but also providing environ- ment variable dictionary env\n",
    "\n",
    "\n",
    "* spawn(mode, file, args[, env]): spawn*() family executes path in a new process given args as arguments and possibly an environ- ment variable dictionary env; mode is a magic number indicating various modes of operation\n",
    "\n",
    "* wait(): Wait for child process to complete [usually used withfork()andexec*()]--> unix\n",
    "\n",
    "* waitpid(pid, options): Wait for specific child process to complete [usually used with fork() and exec*()]--> unix\n",
    "\n",
    "* popen(cmd, mode='r', buffering=-1): Execute cmd string, returning a file-like object as a communication handle to the running program, defaulting to read mode and default system buffering\n",
    "\n",
    "* startfileb(path): Execute path with its associated application --> Windows"
   ]
  },
  {
   "cell_type": "markdown",
   "metadata": {},
   "source": [
    "* the one for Unix-based systems is the posix module\n",
    "\n",
    "* The one for Windows is nt (regardless of which version of Windows you are running; \n",
    "\n",
    "* DOS users get the dos module, and \n",
    "\n",
    "* the one for old MacOS is the mac module. \n",
    "\n",
    "Note: Do not worry, Python will load the correct module when you call import os. You should never need to import a specific operating system module directly."
   ]
  },
  {
   "cell_type": "markdown",
   "metadata": {
    "collapsed": true
   },
   "source": [
    "os.system()：\n",
    "* Takes a system command as a string name and executes it.Python execution is suspended while the command is being executed. When execution has completed, the exit status will be given as the return value from system() and Python execution resumes.\n",
    "* Executing any program or command displaying output will be passed on to standard output.\n",
    "* The convention adopted is an exit status of 0 indicating success and non-zero for some sort of failure."
   ]
  },
  {
   "cell_type": "code",
   "execution_count": 2,
   "metadata": {
    "collapsed": true
   },
   "outputs": [],
   "source": [
    "import os \n",
    "result=os.system('cat /etc/hosts')"
   ]
  },
  {
   "cell_type": "code",
   "execution_count": 3,
   "metadata": {},
   "outputs": [
    {
     "data": {
      "text/plain": [
       "0"
      ]
     },
     "execution_count": 3,
     "metadata": {},
     "output_type": "execute_result"
    }
   ],
   "source": [
    "result"
   ]
  },
  {
   "cell_type": "markdown",
   "metadata": {
    "collapsed": true
   },
   "source": [
    "os.popen():\n",
    "\n",
    "* The popen() function is a combination of a file object and the system() function.\n",
    "\n",
    "* It works in the same way as system() does, but in addition, it has the ability to establish a one-way connection to that program and then to access it like a file. \n",
    "\n",
    "* If the program requires input, then you would call popen() with a mode of 'w' to “write” to that command. The data that you send to the program will then be received through its standard input. Likewise, a mode of 'r' will allow you to spawn a command, then as it writes to standard output, you can read that through your file-like handle using the familiar read\\*() methods of file object. And just like for files, you will be a good citizen and close() the connection when you are finished."
   ]
  },
  {
   "cell_type": "code",
   "execution_count": 7,
   "metadata": {},
   "outputs": [
    {
     "name": "stdout",
     "output_type": "stream",
     "text": [
      "Darwin yang.local 17.4.0 Darwin Kernel Version 17.4.0: Sun Dec 17 09:19:54 PST 2017; root:xnu-4570.41.2~1/RELEASE_X86_64 x86_64\n",
      "\n"
     ]
    }
   ],
   "source": [
    "import os \n",
    "f=os.popen('uname -a')\n",
    "data=f.readline()\n",
    "f.close()\n",
    "print(data)"
   ]
  },
  {
   "cell_type": "markdown",
   "metadata": {},
   "source": [
    "* As you can see, popen() returns a file-like object; also notice that read- line(), as always, preserves the NEWLINE character found at the end of a line of input text."
   ]
  },
  {
   "cell_type": "markdown",
   "metadata": {},
   "source": [
    "os.fork():\n",
    "    \n",
    "*  fork() takes your single exe- cuting flow of control known as a process and creates a “fork in the road,” if you will. \n",
    "\n",
    "* The interesting thing is that your system takes both forks—meaning that you will have two consecutive and parallel running programs \n",
    "\n",
    "* The original process that called fork() is called the parent process, and the new process created as a result of the call is known as the child process.\n",
    "\n",
    "* When the child process returns, its return value is always zero; when the parent process returns, its return value is always the process identifier (aka process ID, or PID) of the child process (so the parent can keep tabs on all its children).\n",
    "\n",
    "* The code for the child is where we can make a call to any of the exec*() functions to run a completely different program or some function in the same program\n",
    "\n",
    "* The general con- vention is to let the children do all the dirty work while the parent either waits patiently for the child to complete its task or continues execution and checks later to see if the child finished properly.\n",
    "\n",
    "* "
   ]
  },
  {
   "cell_type": "code",
   "execution_count": 12,
   "metadata": {},
   "outputs": [
    {
     "name": "stdout",
     "output_type": "stream",
     "text": [
      "parent\n",
      "child\n"
     ]
    }
   ],
   "source": [
    "ret=os.fork()\n",
    "if ret==0:# child returns with PID of 0\n",
    "    print(\"child\")\n",
    "else: # parent returns with child's PID\n",
    "    print('parent')"
   ]
  },
  {
   "cell_type": "markdown",
   "metadata": {},
   "source": [
    "* The child process has its own copy of the virtual memory address space and contains an exact replica of the parent’s address space—yes, both processes are nearly identical. \n",
    "\n",
    "* Using an if-else statement, we can direct code for the child to execute (i.e., the if clause) as well as the parent (the else clause).\n",
    "\n",
    "* All of the exec*() functions load a file or command and execute it with an argument list (either individually given or as part of an argument list). If applicable, an environment variable dictionary can be provided for the com- mand.\n",
    "\n",
    "* All versions of exec*() will replace the Python interpreter running in the current (child) process with the given file as the program to execute now. Unlike system(), there is no return to Python (since Python was replaced). An exception will be raised if exec*() fails because the program cannot exe- cute for some reason.\n",
    "\n",
    "* Because the child process never returns, we do not have to worry about any code for the child after calling exec*().\n",
    "\n",
    "* "
   ]
  },
  {
   "cell_type": "code",
   "execution_count": 13,
   "metadata": {
    "collapsed": true
   },
   "outputs": [],
   "source": [
    "ret=os.fork()\n",
    "if ret==0:\n",
    "    execvp('xbill',['xbill'])\n",
    "else:\n",
    "    os.wait()"
   ]
  },
  {
   "cell_type": "markdown",
   "metadata": {},
   "source": [
    "* wait(). When children processes have completed, they need their parents to clean up after them. This task, known as “reaping a child,” can be accomplished with the wait*() functions. \n",
    "\n",
    "* A call to wait() suspends execution (i.e., waits) until a child process (any child process) has completed, terminating either normally or via a signal.wait() will then reap the child, releasing any resources. \n",
    "\n",
    "* If the child has already completed, then wait() just performs the reaping procedure. waitpid() performs the same functionality as wait() with the additional arguments’ PID to specify the process identifier of a specific child process to wait for plus options."
   ]
  },
  {
   "cell_type": "markdown",
   "metadata": {},
   "source": [
    "os.spawn*():\n",
    "\n",
    "* The spawn*() family of functions are similar to fork() and exec*() in that they execute a command in a new process; however, you do not need to call two separate functions to create a new process and cause it to execute a command. You only need to make one call with the spawn*() family.\n",
    "\n",
    "* its model is more similar to that of starting a function in a thread. Another difference is that you have to know the magic mode parame- ter to pass to spawn*().\n",
    "\n",
    "* In real time os, spawn*() is much faster than fork(). (Those where this is not the case usually use copy-on-write tricks.)"
   ]
  },
  {
   "cell_type": "markdown",
   "metadata": {},
   "source": [
    "9. subprocess module:\n",
    "    \n",
    "* popen5 module was named subprocess, with a class named Popen that has functionality to centralize most of the process-oriented functions we have discussed. There is also a convenience function named call() that can easily slide into where os.system() lives. "
   ]
  },
  {
   "cell_type": "code",
   "execution_count": 18,
   "metadata": {},
   "outputs": [],
   "source": [
    "from subprocess import call\n",
    "res=call(('cat','/etc/hosts'))"
   ]
  },
  {
   "cell_type": "code",
   "execution_count": 19,
   "metadata": {},
   "outputs": [
    {
     "data": {
      "text/plain": [
       "0"
      ]
     },
     "execution_count": 19,
     "metadata": {},
     "output_type": "execute_result"
    }
   ],
   "source": [
    "res"
   ]
  },
  {
   "cell_type": "markdown",
   "metadata": {},
   "source": [
    "Replacing os.popen()\n",
    "\n",
    "* The syntax for creating an instance of Popen is only slightly more complex\n",
    "than calling the os.popen() function:"
   ]
  },
  {
   "cell_type": "code",
   "execution_count": null,
   "metadata": {
    "collapsed": true
   },
   "outputs": [],
   "source": [
    "from subprocess import Popen, PIPE\n",
    "f=Popen(('uname','-a'),stdout=PIPE).stdout"
   ]
  },
  {
   "cell_type": "code",
   "execution_count": null,
   "metadata": {
    "collapsed": true
   },
   "outputs": [],
   "source": []
  },
  {
   "cell_type": "code",
   "execution_count": null,
   "metadata": {
    "collapsed": true
   },
   "outputs": [],
   "source": []
  },
  {
   "cell_type": "code",
   "execution_count": null,
   "metadata": {
    "collapsed": true
   },
   "outputs": [],
   "source": []
  },
  {
   "cell_type": "code",
   "execution_count": null,
   "metadata": {
    "collapsed": true
   },
   "outputs": [],
   "source": []
  },
  {
   "cell_type": "code",
   "execution_count": null,
   "metadata": {
    "collapsed": true
   },
   "outputs": [],
   "source": []
  },
  {
   "cell_type": "code",
   "execution_count": null,
   "metadata": {
    "collapsed": true
   },
   "outputs": [],
   "source": []
  },
  {
   "cell_type": "code",
   "execution_count": null,
   "metadata": {
    "collapsed": true
   },
   "outputs": [],
   "source": []
  },
  {
   "cell_type": "code",
   "execution_count": null,
   "metadata": {
    "collapsed": true
   },
   "outputs": [],
   "source": []
  },
  {
   "cell_type": "code",
   "execution_count": null,
   "metadata": {
    "collapsed": true
   },
   "outputs": [],
   "source": []
  }
 ],
 "metadata": {
  "kernelspec": {
   "display_name": "Python 3",
   "language": "python",
   "name": "python3"
  },
  "language_info": {
   "codemirror_mode": {
    "name": "ipython",
    "version": 3
   },
   "file_extension": ".py",
   "mimetype": "text/x-python",
   "name": "python",
   "nbconvert_exporter": "python",
   "pygments_lexer": "ipython3",
   "version": "3.6.3"
  }
 },
 "nbformat": 4,
 "nbformat_minor": 2
}
